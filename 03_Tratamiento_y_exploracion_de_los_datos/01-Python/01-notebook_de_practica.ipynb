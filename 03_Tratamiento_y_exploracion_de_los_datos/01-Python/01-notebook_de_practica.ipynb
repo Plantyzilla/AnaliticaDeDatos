{
 "cells": [
  {
   "cell_type": "markdown",
   "id": "2e08ab65",
   "metadata": {},
   "source": [
    "# Ejemplo 1: Esto es un Notebook de Practica\n",
    "\n",
    "---\n",
    "\n",
    "### 1. Objetivos\n",
    "    - Repasar rápidamente como funciona un Jupyter Notebook\n",
    "\n",
    "### 2. Requisitos: \n",
    "    - Jupyter Notebook instalado\n",
    "\n",
    "---\n",
    "\n"
   ]
  },
  {
   "cell_type": "markdown",
   "id": "7b5aa953",
   "metadata": {},
   "source": [
    "En JN tenemos `modo comando` y `modo edición`\n",
    "\n",
    "- El `modo edición` sirve para editar celdas\n",
    "- El `modo comando` sirve para usar comandos en el JN"
   ]
  },
  {
   "cell_type": "markdown",
   "id": "6b16f4d8",
   "metadata": {},
   "source": [
    "Esto es una celda `Markdown`"
   ]
  },
  {
   "cell_type": "code",
   "execution_count": 3,
   "id": "459ad5a1",
   "metadata": {},
   "outputs": [],
   "source": [
    "# Esto es una celda de Código\n",
    "# y yo soy un comentario ..."
   ]
  },
  {
   "cell_type": "markdown",
   "id": "07fbc1c3",
   "metadata": {},
   "source": [
    "Escribamos algo de código para recordar: "
   ]
  },
  {
   "cell_type": "code",
   "execution_count": 13,
   "id": "792ed520",
   "metadata": {},
   "outputs": [
    {
     "data": {
      "text/plain": [
       "9"
      ]
     },
     "execution_count": 13,
     "metadata": {},
     "output_type": "execute_result"
    }
   ],
   "source": [
    "var_1 = 4\n",
    "var_2 = 5\n",
    "\n",
    "var_1 + var_2"
   ]
  },
  {
   "cell_type": "code",
   "execution_count": 7,
   "id": "0cb3caab",
   "metadata": {},
   "outputs": [
    {
     "name": "stdout",
     "output_type": "stream",
     "text": [
      "4 5\n"
     ]
    }
   ],
   "source": [
    "print (var_1, var_2)"
   ]
  },
  {
   "cell_type": "code",
   "execution_count": 9,
   "id": "5387abc3",
   "metadata": {},
   "outputs": [
    {
     "name": "stdout",
     "output_type": "stream",
     "text": [
      "4, 5\n"
     ]
    }
   ],
   "source": [
    "print ( str (var_1) + ', ' + str (var_2))"
   ]
  },
  {
   "cell_type": "code",
   "execution_count": 14,
   "id": "2964051f",
   "metadata": {},
   "outputs": [
    {
     "name": "stdout",
     "output_type": "stream",
     "text": [
      "9\n"
     ]
    }
   ],
   "source": [
    "print (var_1 + var_2)"
   ]
  },
  {
   "cell_type": "code",
   "execution_count": 15,
   "id": "d14ad3de",
   "metadata": {},
   "outputs": [
    {
     "data": {
      "text/plain": [
       "15"
      ]
     },
     "execution_count": 15,
     "metadata": {},
     "output_type": "execute_result"
    }
   ],
   "source": [
    "var_1 = 10\n",
    "var_1 + var_2"
   ]
  }
 ],
 "metadata": {
  "kernelspec": {
   "display_name": "Python 3",
   "language": "python",
   "name": "python3"
  },
  "language_info": {
   "codemirror_mode": {
    "name": "ipython",
    "version": 3
   },
   "file_extension": ".py",
   "mimetype": "text/x-python",
   "name": "python",
   "nbconvert_exporter": "python",
   "pygments_lexer": "ipython3",
   "version": "3.13.1"
  }
 },
 "nbformat": 4,
 "nbformat_minor": 5
}
