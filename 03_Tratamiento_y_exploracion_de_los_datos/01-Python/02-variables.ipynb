{
 "cells": [
  {
   "cell_type": "markdown",
   "id": "bf58c224",
   "metadata": {},
   "source": [
    "## Ejemplo 2: Variables\n",
    "\n",
    "### Objetivos:\n",
    "\n",
    "- Entender cuál es la sintaxis de la asignacion de varibles en python \n",
    "- Aprender la canvencion de nombramiento de variables"
   ]
  },
  {
   "cell_type": "markdown",
   "id": "6350deec",
   "metadata": {},
   "source": [
    "### 2. Desarrollo\n",
    "\n",
    "Los siguientes nombres son nombres posibles de variables en Python:\n",
    "\n",
    "- var_1\n",
    "- variable_2\n",
    "- variable_dos\n",
    "- varible_nueva_tres\n",
    "- esta_es_una_variable_nuevas"
   ]
  },
  {
   "cell_type": "markdown",
   "id": "0603be04",
   "metadata": {},
   "source": [
    "Los Siguientes nombres son nombres invalidos para una variable en Python:\n",
    "\n",
    "- 1_2\n",
    "- 1_variable\n",
    "- variableDos\n",
    "- EstaEsUnaVariable\n",
    "- Soy una variable"
   ]
  },
  {
   "cell_type": "markdown",
   "id": "ab7ba2c0",
   "metadata": {},
   "source": [
    "Asignemos unas cuantas variables:"
   ]
  },
  {
   "cell_type": "code",
   "execution_count": 5,
   "id": "b80b12c8",
   "metadata": {},
   "outputs": [],
   "source": [
    "var_1 = 3 \n",
    "var_2 = 6\n",
    "variable_3 = 10\n",
    "variable_nueva_4 = 20"
   ]
  },
  {
   "cell_type": "markdown",
   "id": "139e7156",
   "metadata": {},
   "source": [
    "Podemos acceder a su contenido con tan solo escribir el nombre de la variable en una celda y correrla o ejecutarla"
   ]
  },
  {
   "cell_type": "code",
   "execution_count": 8,
   "id": "226fc22c",
   "metadata": {},
   "outputs": [
    {
     "data": {
      "text/plain": [
       "3"
      ]
     },
     "execution_count": 8,
     "metadata": {},
     "output_type": "execute_result"
    }
   ],
   "source": [
    "var_1"
   ]
  },
  {
   "cell_type": "code",
   "execution_count": 9,
   "id": "8e6a50c3",
   "metadata": {},
   "outputs": [
    {
     "data": {
      "text/plain": [
       "20"
      ]
     },
     "execution_count": 9,
     "metadata": {},
     "output_type": "execute_result"
    }
   ],
   "source": [
    "variable_nueva_4"
   ]
  },
  {
   "cell_type": "markdown",
   "id": "a44a2e0c",
   "metadata": {},
   "source": [
    "Se intento llamar una variable que no se ha asignado o no existe, JN va a lanzar un error"
   ]
  },
  {
   "cell_type": "code",
   "execution_count": 11,
   "id": "ee775261",
   "metadata": {},
   "outputs": [
    {
     "ename": "NameError",
     "evalue": "name 'var_5' is not defined",
     "output_type": "error",
     "traceback": [
      "\u001b[1;31m---------------------------------------------------------------------------\u001b[0m",
      "\u001b[1;31mNameError\u001b[0m                                 Traceback (most recent call last)",
      "Cell \u001b[1;32mIn[11], line 1\u001b[0m\n\u001b[1;32m----> 1\u001b[0m \u001b[43mvar_5\u001b[49m\n",
      "\u001b[1;31mNameError\u001b[0m: name 'var_5' is not defined"
     ]
    }
   ],
   "source": [
    "var_5"
   ]
  },
  {
   "cell_type": "markdown",
   "id": "7e555223",
   "metadata": {},
   "source": [
    "De igual, manera, si se escribe una asignacion, pero no se corre la celda es variable no estara disponible para el notebook mas adelante"
   ]
  },
  {
   "cell_type": "code",
   "execution_count": null,
   "id": "b160b285",
   "metadata": {},
   "outputs": [],
   "source": [
    "var_2 = 66"
   ]
  },
  {
   "cell_type": "code",
   "execution_count": 15,
   "id": "b99d6619",
   "metadata": {},
   "outputs": [],
   "source": [
    "var_2 = 89"
   ]
  },
  {
   "cell_type": "code",
   "execution_count": 12,
   "id": "fd1835e7",
   "metadata": {},
   "outputs": [
    {
     "data": {
      "text/plain": [
       "6"
      ]
     },
     "execution_count": 12,
     "metadata": {},
     "output_type": "execute_result"
    }
   ],
   "source": [
    "var_2"
   ]
  },
  {
   "cell_type": "code",
   "execution_count": 14,
   "id": "4ce7e8cf",
   "metadata": {},
   "outputs": [
    {
     "data": {
      "text/plain": [
       "66"
      ]
     },
     "execution_count": 14,
     "metadata": {},
     "output_type": "execute_result"
    }
   ],
   "source": [
    "var_2"
   ]
  },
  {
   "cell_type": "code",
   "execution_count": 16,
   "id": "ea87b19a",
   "metadata": {},
   "outputs": [
    {
     "data": {
      "text/plain": [
       "89"
      ]
     },
     "execution_count": 16,
     "metadata": {},
     "output_type": "execute_result"
    }
   ],
   "source": [
    "var_2"
   ]
  },
  {
   "cell_type": "markdown",
   "id": "38e58591",
   "metadata": {},
   "source": [
    "## Reto 1: Variables\n",
    "\n",
    "### 1. Objetivos:\n",
    "\n",
    "    - Practicar convencion de nombramiento y asignacion de variables\n",
    "\n",
    "### 2. Desarrollo\n",
    "\n",
    "Realizar la siguiente practica"
   ]
  },
  {
   "cell_type": "code",
   "execution_count": 1,
   "id": "138cbb26",
   "metadata": {},
   "outputs": [],
   "source": [
    "# Asigan el numero 12345 a una variable llamada variable locochona\n",
    "variable_locochona = 12345\n",
    "# Asigna el numero 14.567 a la variable var decimal\n",
    "var_decimal = 14.567\n",
    "# Asigna un numero cualquiera a una variable que tenga 5 palabras en su nombre\n",
    "numero_cualquiera_que_no_se = 20\n",
    "# Asigna cualquier numero a una variable que incluya palabras y numeros en su nombre\n",
    "no_tengo_idea_de_que_numero_que_vaya_poner_1_2_3_4 = 69"
   ]
  }
 ],
 "metadata": {
  "kernelspec": {
   "display_name": "Python 3",
   "language": "python",
   "name": "python3"
  },
  "language_info": {
   "codemirror_mode": {
    "name": "ipython",
    "version": 3
   },
   "file_extension": ".py",
   "mimetype": "text/x-python",
   "name": "python",
   "nbconvert_exporter": "python",
   "pygments_lexer": "ipython3",
   "version": "3.13.1"
  }
 },
 "nbformat": 4,
 "nbformat_minor": 5
}
