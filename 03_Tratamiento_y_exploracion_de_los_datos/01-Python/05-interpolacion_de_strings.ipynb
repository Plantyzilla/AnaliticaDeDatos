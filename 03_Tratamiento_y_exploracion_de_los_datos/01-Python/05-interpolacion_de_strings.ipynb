{
 "cells": [
  {
   "cell_type": "markdown",
   "id": "a90f7e0f",
   "metadata": {},
   "source": [
    "## Interpolacion \n",
    "\n",
    "### Objetivos\n",
    "    - Aprender a imprimir string\n",
    "    - Aprender a interpolar variables dentro de strings\n",
    "\n",
    "---\n",
    "\n",
    "### Desarrollo:"
   ]
  },
  {
   "cell_type": "markdown",
   "id": "99fa9f7e",
   "metadata": {},
   "source": [
    "Podemos hacer anotaciones en outputs de nuestro codigo de esta manera:"
   ]
  },
  {
   "cell_type": "code",
   "execution_count": 1,
   "id": "5b48f64c",
   "metadata": {},
   "outputs": [
    {
     "name": "stdout",
     "output_type": "stream",
     "text": [
      "Suma de var_1 y var_2\n",
      "38.7\n"
     ]
    }
   ],
   "source": [
    "var_1 = 15.3\n",
    "var_2 = 23.4\n",
    "\n",
    "print ('Suma de var_1 y var_2')\n",
    "print (var_1 + var_2)"
   ]
  },
  {
   "cell_type": "markdown",
   "id": "70d64fde",
   "metadata": {},
   "source": [
    "Pero a veces resulta necesario o deseable interpolar el valor de la variable dentro de dicho string. Para esto utilizamos las llamadas `f-strings`. El formato de una `f-strings` es el siguiente:\n",
    "\n",
    "`f\"Esto es texto {esto_es_una_variable} estp es mas texto\"`\n",
    "\n",
    "Escribiendo una `f` antes de las comillas le indicamos a Python que lo pongas dentro de las (`{}`) sera codigo de Python. En este caso, una variable asignada previamente.\n",
    "\n",
    "Ahora podemos hacer lo siguiente:"
   ]
  },
  {
   "cell_type": "code",
   "execution_count": 3,
   "id": "bdb7b432",
   "metadata": {},
   "outputs": [
    {
     "name": "stdout",
     "output_type": "stream",
     "text": [
      "La suma 67.3\n"
     ]
    }
   ],
   "source": [
    "var_3 = 43\n",
    "var_4 = 24.3\n",
    "\n",
    "suma = var_3 + var_4\n",
    "\n",
    "print(f'La suma { suma }')"
   ]
  },
  {
   "cell_type": "code",
   "execution_count": 23,
   "id": "3a063355",
   "metadata": {},
   "outputs": [
    {
     "name": "stdout",
     "output_type": "stream",
     "text": [
      "El nombre del programa es: 7 y la suma de los valores 5.0 + 5.0 es: 10.0\n"
     ]
    }
   ],
   "source": [
    "nombre_programa = input('Introduce el Nombre del Programa')\n",
    "var_3 = float(input('Introduce el primer valor'))\n",
    "var_4 = float(input('Introduce el segundo valor'))\n",
    "\n",
    "suma = var_3 + var_4\n",
    "\n",
    "print (f'El nombre del programa es: {nombre_programa} y la suma de los valores {var_3} + {var_4} es: {suma}')"
   ]
  },
  {
   "cell_type": "code",
   "execution_count": 24,
   "id": "58f9f64f",
   "metadata": {},
   "outputs": [],
   "source": [
    "def sumar (numero_1, numero_2):\n",
    "    return numero_1 + numero_2"
   ]
  },
  {
   "cell_type": "code",
   "execution_count": 18,
   "id": "74e75ad1",
   "metadata": {},
   "outputs": [
    {
     "name": "stdout",
     "output_type": "stream",
     "text": [
      "9.0\n"
     ]
    }
   ],
   "source": [
    "var_3 = float(input('Introduce el primer valor'))\n",
    "var_4 = float(input('Introduce el segundo valor'))\n",
    "\n",
    "sumar = sumar(var_3, var_4)\n",
    "\n",
    "print (sumar)"
   ]
  },
  {
   "cell_type": "code",
   "execution_count": 25,
   "id": "77fac318",
   "metadata": {},
   "outputs": [],
   "source": [
    "def solivalor():\n",
    "    return float(input('Introduce el primer valor'))"
   ]
  },
  {
   "cell_type": "code",
   "execution_count": 26,
   "id": "b8904f9a",
   "metadata": {},
   "outputs": [
    {
     "name": "stdout",
     "output_type": "stream",
     "text": [
      "11.0\n"
     ]
    }
   ],
   "source": [
    "var_3 = solivalor()\n",
    "var_4 = solivalor()\n",
    "\n",
    "suma = sumar(var_3, var_4)\n",
    "\n",
    "print (suma)"
   ]
  },
  {
   "cell_type": "code",
   "execution_count": 27,
   "id": "23b2eb3f",
   "metadata": {},
   "outputs": [],
   "source": [
    "xx = 10"
   ]
  },
  {
   "cell_type": "code",
   "execution_count": 28,
   "id": "26626125",
   "metadata": {},
   "outputs": [
    {
     "name": "stdout",
     "output_type": "stream",
     "text": [
      "10\n"
     ]
    }
   ],
   "source": [
    "print(xx)"
   ]
  },
  {
   "cell_type": "code",
   "execution_count": null,
   "id": "d1b1eb12",
   "metadata": {},
   "outputs": [],
   "source": []
  }
 ],
 "metadata": {
  "kernelspec": {
   "display_name": "Python 3",
   "language": "python",
   "name": "python3"
  },
  "language_info": {
   "codemirror_mode": {
    "name": "ipython",
    "version": 3
   },
   "file_extension": ".py",
   "mimetype": "text/x-python",
   "name": "python",
   "nbconvert_exporter": "python",
   "pygments_lexer": "ipython3",
   "version": "3.13.1"
  }
 },
 "nbformat": 4,
 "nbformat_minor": 5
}
