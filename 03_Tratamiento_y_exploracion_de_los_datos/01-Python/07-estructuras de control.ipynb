{
 "cells": [
  {
   "cell_type": "markdown",
   "id": "78c3b5f8",
   "metadata": {},
   "source": [
    "## Estructuras de Control\n",
    "\n",
    "### Objetivo:\n",
    "\n",
    "    - Conocer las estructuras de control, como funcionan y para que sirven\n",
    "\n",
    "---"
   ]
  },
  {
   "cell_type": "markdown",
   "id": "ceab2cc7",
   "metadata": {},
   "source": [
    "## Desarrollo"
   ]
  },
  {
   "cell_type": "markdown",
   "id": "55247d7e",
   "metadata": {},
   "source": [
    "Queremos darle a nuestro programa la capacidad de tomar decisiones. Esto puede hacerse utilizando una `sentencia if` utiliza una comparacion para obtener un boolean. Si el booleano es `True`, el bloque de la sentencia se ejecuta. Si el booleano es `False` nos saltamos a lo que sigue despues del bloque"
   ]
  },
  {
   "cell_type": "code",
   "execution_count": 4,
   "id": "e73c7a75",
   "metadata": {},
   "outputs": [],
   "source": [
    "var_1 = 4\n",
    "var_2 = 5"
   ]
  },
  {
   "cell_type": "code",
   "execution_count": 5,
   "id": "ed4d333c",
   "metadata": {},
   "outputs": [
    {
     "name": "stdout",
     "output_type": "stream",
     "text": [
      "El bloque se ha ejecutado\n"
     ]
    }
   ],
   "source": [
    "if var_1 < var_2:\n",
    "    print(\"El bloque se ha ejecutado\")"
   ]
  },
  {
   "cell_type": "code",
   "execution_count": 8,
   "id": "a4eccf28",
   "metadata": {},
   "outputs": [
    {
     "name": "stdout",
     "output_type": "stream",
     "text": [
      "El numero 2 es menor que el numero 4\n"
     ]
    }
   ],
   "source": [
    "var_1 = int(input('Intriduce el Valor'))\n",
    "var_2 = int(input('Intriduce el Valor'))\n",
    "\n",
    "if var_1 < var_2:\n",
    "    print(f\"El numero {var_1} es menor que el numero {var_2}\")"
   ]
  },
  {
   "cell_type": "code",
   "execution_count": 25,
   "id": "487e33c3",
   "metadata": {},
   "outputs": [],
   "source": [
    "# Funcion que solicita un valor\n",
    "def solicitar ():\n",
    "    return int(input('Introduce el Valor'))"
   ]
  },
  {
   "cell_type": "code",
   "execution_count": 11,
   "id": "82af9405",
   "metadata": {},
   "outputs": [],
   "source": [
    "# Funcion que hace la comparacion\n",
    "\n",
    "def comparar (valor_uno, valor_dos):\n",
    "    if valor_uno < valor_dos:\n",
    "        print(f\"El numero {var_1} es menor que el numero {var_2}\")"
   ]
  },
  {
   "cell_type": "code",
   "execution_count": 12,
   "id": "d83fc6b6",
   "metadata": {},
   "outputs": [
    {
     "name": "stdout",
     "output_type": "stream",
     "text": [
      "El numero 1 es menor que el numero 2\n"
     ]
    }
   ],
   "source": [
    "# Ejecucion de las funciones\n",
    "var_1 = solicitar()\n",
    "var_2 = solicitar()\n",
    "\n",
    "comparar(var_1, var_2)"
   ]
  },
  {
   "cell_type": "markdown",
   "id": "629d3a35",
   "metadata": {},
   "source": [
    "1. **Desarrollar un programa que determine si un numero es positivo**\n",
    "2. **Desarrollar un programa que determina si puedes votar, la edad minima es 18**\n",
    "3. **Verificar si un numero es par**\n",
    "4. **Realizar a simulacion de un login, en el cual se debe verificar se la contraseña es correcta**\n",
    "5. **Realizar un programa determine si un alumno esta aprobado, la calificacion minima es 7**\n",
    "\n",
    "Todos los datos deben ser solicitados"
   ]
  },
  {
   "cell_type": "code",
   "execution_count": null,
   "id": "4fb45ed3",
   "metadata": {},
   "outputs": [
    {
     "name": "stdout",
     "output_type": "stream",
     "text": [
      "Tu numero 4 es positivo\n"
     ]
    }
   ],
   "source": [
    "# 1\n",
    "\n",
    "var_1 = solicitar()\n",
    "\n",
    "\n",
    "if var_1 > 0:\n",
    "    print (f'Tu numero {var_1} es positivo')"
   ]
  },
  {
   "cell_type": "code",
   "execution_count": null,
   "id": "39131a21",
   "metadata": {},
   "outputs": [
    {
     "name": "stdout",
     "output_type": "stream",
     "text": [
      "Si puedes votar\n"
     ]
    }
   ],
   "source": [
    "#2\n",
    "\n",
    "def solicitaredad():\n",
    "    return int(input('Introduce el Valor'))\n",
    "\n",
    "var_1 = solicitaredad()\n",
    "\n",
    "if var_1 >= 18:\n",
    "    print (f\"Si puedes votar\")\n"
   ]
  },
  {
   "cell_type": "code",
   "execution_count": null,
   "id": "388dc208",
   "metadata": {},
   "outputs": [],
   "source": [
    "#3\n",
    "\n",
    "var_1 = solicitar()\n",
    "\n",
    "residuo = var_1 % 2\n",
    "\n",
    "if residuo == 0:\n",
    "    print(f\"Tu numero es par {var_1}\")"
   ]
  },
  {
   "cell_type": "code",
   "execution_count": null,
   "id": "5b04be54",
   "metadata": {},
   "outputs": [],
   "source": [
    "#4\n",
    "\n",
    "def solicitar ():\n",
    "    return str(input('Introduce la contraseña')) \n",
    "contra = solicitar()\n",
    "\n",
    "if contra == 'papahugo':\n",
    "    print(\"Tu contraseña es correcta, puedes acceder\")"
   ]
  },
  {
   "cell_type": "code",
   "execution_count": 32,
   "id": "c35551b3",
   "metadata": {},
   "outputs": [
    {
     "name": "stdout",
     "output_type": "stream",
     "text": [
      "Tu contraseña es correcta, puedes acceder\n"
     ]
    }
   ],
   "source": [
    "def solicitar ():\n",
    "    return str(input('Introduce la contraseña')) \n",
    "contra = solicitar()\n",
    "\n",
    "if contra == 'papahugo':\n",
    "    print(\"Tu contraseña es correcta, puedes acceder\")\n",
    "else:\n",
    "    print('Contraseña incorrecta')"
   ]
  },
  {
   "cell_type": "code",
   "execution_count": null,
   "id": "ccc6ad78",
   "metadata": {},
   "outputs": [],
   "source": [
    "#5\n",
    "def solicitar ():\n",
    "    return int(input('Introduce el valor')) \n",
    "\n",
    "var_1 = solicitar()\n",
    "\n",
    "if var_1 >= 7:\n",
    "    print (f\"Aprobaste!!! Felicidades! Tu calificacion es aprobatoria {var_1}\")"
   ]
  }
 ],
 "metadata": {
  "kernelspec": {
   "display_name": "Python 3",
   "language": "python",
   "name": "python3"
  },
  "language_info": {
   "codemirror_mode": {
    "name": "ipython",
    "version": 3
   },
   "file_extension": ".py",
   "mimetype": "text/x-python",
   "name": "python",
   "nbconvert_exporter": "python",
   "pygments_lexer": "ipython3",
   "version": "3.13.1"
  }
 },
 "nbformat": 4,
 "nbformat_minor": 5
}
