{
 "cells": [
  {
   "cell_type": "markdown",
   "id": "0f2790d7",
   "metadata": {},
   "source": [
    "# Bucles o Loops o Ciclos"
   ]
  },
  {
   "cell_type": "markdown",
   "id": "036ffb46",
   "metadata": {},
   "source": [
    "## Blucles con While"
   ]
  },
  {
   "cell_type": "code",
   "execution_count": 1,
   "id": "6a9c65bd",
   "metadata": {},
   "outputs": [
    {
     "ename": "KeyboardInterrupt",
     "evalue": "",
     "output_type": "error",
     "traceback": [
      "\u001b[31m---------------------------------------------------------------------------\u001b[39m",
      "\u001b[31mKeyboardInterrupt\u001b[39m                         Traceback (most recent call last)",
      "\u001b[36mCell\u001b[39m\u001b[36m \u001b[39m\u001b[32mIn[1]\u001b[39m\u001b[32m, line 1\u001b[39m\n\u001b[32m----> \u001b[39m\u001b[32m1\u001b[39m \u001b[38;5;28;01mwhile\u001b[39;00m \u001b[38;5;28;01mTrue\u001b[39;00m:\n\u001b[32m      2\u001b[39m         \u001b[38;5;28;01mpass\u001b[39;00m\n\u001b[32m      3\u001b[39m \u001b[38;5;28mprint\u001b[39m(\u001b[33m'\u001b[39m\u001b[33mEstoy dentro del bucle y no puedo salir\u001b[39m\u001b[33m'\u001b[39m)\n",
      "\u001b[31mKeyboardInterrupt\u001b[39m: "
     ]
    }
   ],
   "source": [
    "while True:\n",
    "        pass\n",
    "print('Estoy dentro del bucle y no puedo salir')"
   ]
  },
  {
   "cell_type": "code",
   "execution_count": 2,
   "id": "14fe5945",
   "metadata": {},
   "outputs": [
    {
     "name": "stdout",
     "output_type": "stream",
     "text": [
      "El numero mas grande es: 10\n"
     ]
    }
   ],
   "source": [
    "numero_grande = -999999999\n",
    "\n",
    "# Ingresa el primer valor\n",
    "number = int(input('Introduce un numero o escribe -1 para terminar'))\n",
    "\n",
    "while number != -1:\n",
    "    # ¿Es el número más grande que el valor numero_grande?\n",
    "    if number > numero_grande:\n",
    "        numero_grande = number\n",
    "    number = int(input('Intoduce un numero o escribe -1 para terminar'))\n",
    "print(f'El numero mas grande es: {numero_grande}')"
   ]
  },
  {
   "cell_type": "code",
   "execution_count": 3,
   "id": "f6e84b60",
   "metadata": {},
   "outputs": [
    {
     "name": "stdout",
     "output_type": "stream",
     "text": [
      "Soy el numero 1\n",
      "Soy el numero 2\n",
      "Soy el numero 3\n",
      "Soy el numero 4\n",
      "Soy el numero 5\n",
      "Soy el numero 6\n",
      "Fin del programa\n"
     ]
    }
   ],
   "source": [
    "# Imprimir todos los numeros del 1 a N\n",
    "\n",
    "numero = int(input('Introduce un numero'))\n",
    "\n",
    "i = 1\n",
    "while i <= numero:\n",
    "    print(f'Soy el numero {i}')\n",
    "    i = i + 1\n",
    "    \n",
    "print ('Fin del programa')"
   ]
  },
  {
   "cell_type": "markdown",
   "id": "44917ac3",
   "metadata": {},
   "source": [
    "**Realizar un programa que calcule el promedio de calificaciones N**"
   ]
  },
  {
   "cell_type": "code",
   "execution_count": 5,
   "id": "970e8f42",
   "metadata": {},
   "outputs": [
    {
     "name": "stdout",
     "output_type": "stream",
     "text": [
      "Total de calificaciones: 3\n",
      "Suma de calificaciones: 26\n",
      "Promedio de Calificaciones: 8.666666666666666\n"
     ]
    }
   ],
   "source": [
    "Suma_Calf = 0\n",
    "Num_Calfi = int(input('Introduce cuantas calificaciones quieres ingresar'))\n",
    "i = 0\n",
    "while i < Num_Calfi:\n",
    "    Suma_Calf += int(input(f'Introduce la calificacion: {i + 1}'))\n",
    "    i = i + 1\n",
    "\n",
    "Promedio = Suma_Calf / Num_Calfi\n",
    "print (f'Total de calificaciones: {Num_Calfi}')\n",
    "print (f'Suma de calificaciones: {Suma_Calf}')\n",
    "print (f'Promedio de Calificaciones: {Promedio}')"
   ]
  },
  {
   "cell_type": "code",
   "execution_count": 6,
   "id": "83b8d8c8",
   "metadata": {},
   "outputs": [
    {
     "name": "stdout",
     "output_type": "stream",
     "text": [
      "El número de aprobados es 4\n",
      "El número de reprobados es: \n"
     ]
    }
   ],
   "source": [
    "Cal = int(input('Introduce la calificacion'))\n",
    "Calf_Aprob = 0\n",
    "Calf_Repro = 0\n",
    "\n",
    "while Cal != -1:\n",
    "    if Cal >= 7.0 and Cal <= 10.0:\n",
    "        Calf_Aprob = Calf_Aprob + 1\n",
    "    elif Cal < 7.0 and Cal >= 0:\n",
    "        Calf_Repro += 1\n",
    "\n",
    "    Cal = int(input('Introduce la calificacion'))\n",
    "\n",
    "print(f'El número de aprobados es {Calf_Aprob}\\nEl número de reprobados es: ')"
   ]
  },
  {
   "cell_type": "markdown",
   "id": "e3d4143c",
   "metadata": {},
   "source": [
    "## Bucle con for\n",
    "\n",
    "Otro tipo de bucle disponible en `python` proviene de la observacion de que aveces es mas importante contar con los giros o vueltas del bucle que verificar las condiciones.\n",
    "\n",
    "```python\n",
    "for i in range (100):\n",
    "    # do_something()\n",
    "    pass\n",
    "```"
   ]
  },
  {
   "cell_type": "code",
   "execution_count": 7,
   "id": "7b3b8371",
   "metadata": {},
   "outputs": [
    {
     "name": "stdout",
     "output_type": "stream",
     "text": [
      "El valor de i es 0\n",
      "El valor de i es 1\n",
      "El valor de i es 2\n",
      "El valor de i es 3\n",
      "El valor de i es 4\n",
      "El valor de i es 5\n",
      "El valor de i es 6\n",
      "El valor de i es 7\n",
      "El valor de i es 8\n",
      "El valor de i es 9\n"
     ]
    }
   ],
   "source": [
    "for i in range(10):\n",
    "    print(f'El valor de i es {i}')"
   ]
  },
  {
   "cell_type": "code",
   "execution_count": 8,
   "id": "7a67ed7d",
   "metadata": {},
   "outputs": [
    {
     "name": "stdout",
     "output_type": "stream",
     "text": [
      "El valor de i es 1\n",
      "El valor de i es 2\n",
      "El valor de i es 3\n",
      "El valor de i es 4\n",
      "El valor de i es 5\n",
      "El valor de i es 6\n",
      "El valor de i es 7\n",
      "El valor de i es 8\n",
      "El valor de i es 9\n",
      "El valor de i es 10\n"
     ]
    }
   ],
   "source": [
    "for i in range(10):\n",
    "    print(f'El valor de i es {i + 1}')"
   ]
  },
  {
   "cell_type": "code",
   "execution_count": 9,
   "id": "16e25756",
   "metadata": {},
   "outputs": [
    {
     "name": "stdout",
     "output_type": "stream",
     "text": [
      "2\n",
      "3\n",
      "4\n",
      "9\n",
      "6\n",
      "7\n",
      "10\n"
     ]
    }
   ],
   "source": [
    "lista = [2,3,4,9,6,7,10]\n",
    "\n",
    "for li in lista:\n",
    "    print(li)"
   ]
  },
  {
   "cell_type": "code",
   "execution_count": 10,
   "id": "c4a2ffdb",
   "metadata": {},
   "outputs": [
    {
     "name": "stdout",
     "output_type": "stream",
     "text": [
      "2\n",
      "3\n",
      "4\n",
      "9\n",
      "6\n",
      "7\n",
      "10\n",
      "[2, 3, 5, 6]\n"
     ]
    }
   ],
   "source": [
    "lista = [2,3,4,9,6,7,10,[2,3,5,6]]\n",
    "\n",
    "for li in lista:\n",
    "    print(li)"
   ]
  },
  {
   "cell_type": "markdown",
   "id": "a3374e46",
   "metadata": {},
   "source": [
    "Nota:\n",
    "\n",
    "el bucle se ha ejecutado n veces (es el argumento de la funcion range()) El valor de la ultima variable de control es 9 (no 10, ya que comienza en 0, no desde 1)"
   ]
  },
  {
   "cell_type": "code",
   "execution_count": 12,
   "id": "657be3fd",
   "metadata": {},
   "outputs": [
    {
     "name": "stdout",
     "output_type": "stream",
     "text": [
      "El valor de i es 2\n",
      "El valor de i es 3\n",
      "El valor de i es 4\n",
      "El valor de i es 5\n",
      "El valor de i es 6\n",
      "El valor de i es 7\n"
     ]
    }
   ],
   "source": [
    "for i in range(2,8):\n",
    "    print(f'El valor de i es {i}')"
   ]
  },
  {
   "cell_type": "code",
   "execution_count": null,
   "id": "303e67d7",
   "metadata": {},
   "outputs": [],
   "source": [
    "i = 2 \n",
    "while i<8:\n",
    "    print(f'El valor de i es {i}')\n",
    "    i+=1"
   ]
  },
  {
   "cell_type": "markdown",
   "id": "4d261514",
   "metadata": {},
   "source": [
    "La función range tambien puede aceptar 3 argumentos "
   ]
  },
  {
   "cell_type": "code",
   "execution_count": 13,
   "id": "bc9188ec",
   "metadata": {},
   "outputs": [
    {
     "name": "stdout",
     "output_type": "stream",
     "text": [
      "El valor de i es 2\n",
      "El valor de i es 5\n"
     ]
    }
   ],
   "source": [
    "for i in range(2,8,3):\n",
    "    print(f'El valor de i es {i}')"
   ]
  },
  {
   "cell_type": "code",
   "execution_count": 14,
   "id": "7eab08fd",
   "metadata": {},
   "outputs": [
    {
     "name": "stdout",
     "output_type": "stream",
     "text": [
      "El valor es i es 2\n",
      "El valor es i es 5\n"
     ]
    }
   ],
   "source": [
    "i = 2\n",
    "while i<8:\n",
    "    print(f'El valor es i es {i}')\n",
    "    i += 3"
   ]
  },
  {
   "cell_type": "markdown",
   "id": "a757071a",
   "metadata": {},
   "source": [
    "Las sentencias break y continue\n",
    "\n",
    " `break` - Sale del bucle inmediatamente, e incondicionalmente termina la operación del bucle, el programa empieza a ejecutar la instrucción más cercana después del cuerpo del bucle.\n",
    "\n",
    " `continue` - Se comporta como si el programa hubiera llegado repentinamente al final del cuerpo; el siguiente trno se incia y la expresion de condicion se prueba de inmediato."
   ]
  },
  {
   "cell_type": "code",
   "execution_count": 15,
   "id": "0393bd30",
   "metadata": {},
   "outputs": [
    {
     "name": "stdout",
     "output_type": "stream",
     "text": [
      "La instrucción break\n",
      "Dentro del bucle\n",
      "Dentro del bucle\n",
      "Fuera del bucle\n"
     ]
    }
   ],
   "source": [
    "# break - ejemplo\n",
    "\n",
    "print('La instrucción break')\n",
    "for i in range(1,6):\n",
    "    if i == 3:\n",
    "        break\n",
    "    print('Dentro del bucle')\n",
    "print('Fuera del bucle')"
   ]
  },
  {
   "cell_type": "code",
   "execution_count": 16,
   "id": "68635247",
   "metadata": {},
   "outputs": [
    {
     "name": "stdout",
     "output_type": "stream",
     "text": [
      "\n",
      " La instrucción continue:\n",
      "Dentro del bucle. 1\n",
      "Dentro del bucle. 2\n",
      "Dentro del bucle. 4\n",
      "Dentro del bucle. 5\n",
      "Fuera del Bucle\n"
     ]
    }
   ],
   "source": [
    "# continue\n",
    "\n",
    "print('\\n La instrucción continue:')\n",
    "for i in range(1,6):\n",
    "    if i == 3:\n",
    "        continue\n",
    "    print(f'Dentro del bucle. {i}')\n",
    "print('Fuera del Bucle')"
   ]
  }
 ],
 "metadata": {
  "kernelspec": {
   "display_name": "Python 3",
   "language": "python",
   "name": "python3"
  },
  "language_info": {
   "codemirror_mode": {
    "name": "ipython",
    "version": 3
   },
   "file_extension": ".py",
   "mimetype": "text/x-python",
   "name": "python",
   "nbconvert_exporter": "python",
   "pygments_lexer": "ipython3",
   "version": "3.13.3"
  }
 },
 "nbformat": 4,
 "nbformat_minor": 5
}
