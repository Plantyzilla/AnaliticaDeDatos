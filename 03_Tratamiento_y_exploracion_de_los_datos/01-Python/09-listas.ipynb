{
 "cells": [
  {
   "cell_type": "markdown",
   "id": "e6bf49d2",
   "metadata": {},
   "source": [
    "# Listas\n",
    "\n",
    "1. Objetivos\n",
    "\n",
    "- Entender las sintaxis de las listas en python\n",
    "- Aprender a crear listas y accesarlas\n",
    "\n",
    "---\n",
    "\n",
    "2-Desarrollo:\n",
    "\n",
    "## Creando listas y accediendo a ella\n",
    "\n",
    "Las listas son secuencias ordenadas. El orden de los datos en la lista es el mismo orden que tiene los datos a la hora de ser asignados. Una lista se ve asi:"
   ]
  },
  {
   "cell_type": "code",
   "execution_count": 1,
   "id": "bf611ae4",
   "metadata": {},
   "outputs": [
    {
     "data": {
      "text/plain": [
       "[1, 4, 6, 2, 4]"
      ]
     },
     "execution_count": 1,
     "metadata": {},
     "output_type": "execute_result"
    }
   ],
   "source": [
    "lista_1 = [1,4,6,2,4]\n",
    "lista_1"
   ]
  },
  {
   "cell_type": "code",
   "execution_count": 2,
   "id": "0cc120d0",
   "metadata": {},
   "outputs": [
    {
     "data": {
      "text/plain": [
       "list"
      ]
     },
     "execution_count": 2,
     "metadata": {},
     "output_type": "execute_result"
    }
   ],
   "source": [
    "type(lista_1)"
   ]
  },
  {
   "cell_type": "markdown",
   "id": "d2107ba5",
   "metadata": {},
   "source": [
    "Cada elemento de la lista tiene un indice, que se utiliza para acceder a dicho elemento. Dado que las listas son ordenadas, los indices se van asignando secuencialmente desde el primer elemento hasta el ultimo. El primer indice es siempre `0`, y por lo tanto el ultimo indice es siempre `n-1`, donde `n` es el numero total de elementos en la lista."
   ]
  },
  {
   "cell_type": "code",
   "execution_count": 3,
   "id": "3166485c",
   "metadata": {},
   "outputs": [
    {
     "name": "stdout",
     "output_type": "stream",
     "text": [
      "Primer elemento de la lista: 1\n",
      "El ultimo elemento de la lista: 4\n"
     ]
    }
   ],
   "source": [
    "# Imprimir el primer elemento de la lista\n",
    "\n",
    "print(f'Primer elemento de la lista: {lista_1[0]}')\n",
    "print(f'El ultimo elemento de la lista: {lista_1[4]}')"
   ]
  },
  {
   "cell_type": "code",
   "execution_count": 8,
   "id": "f42ec244",
   "metadata": {},
   "outputs": [
    {
     "ename": "IndexError",
     "evalue": "list index out of range",
     "output_type": "error",
     "traceback": [
      "\u001b[1;31m---------------------------------------------------------------------------\u001b[0m",
      "\u001b[1;31mIndexError\u001b[0m                                Traceback (most recent call last)",
      "Cell \u001b[1;32mIn[8], line 2\u001b[0m\n\u001b[0;32m      1\u001b[0m \u001b[38;5;66;03m# La posicion 5 no existe\u001b[39;00m\n\u001b[1;32m----> 2\u001b[0m \u001b[43mlista_1\u001b[49m\u001b[43m[\u001b[49m\u001b[38;5;241;43m5\u001b[39;49m\u001b[43m]\u001b[49m\n",
      "\u001b[1;31mIndexError\u001b[0m: list index out of range"
     ]
    }
   ],
   "source": [
    "# La posicion 5 no existe\n",
    "lista_1[5]"
   ]
  },
  {
   "cell_type": "code",
   "execution_count": 25,
   "id": "d38521d9",
   "metadata": {},
   "outputs": [
    {
     "name": "stdout",
     "output_type": "stream",
     "text": [
      "Contenido de la lista: [10, 5, 7, 2, 1]\n"
     ]
    }
   ],
   "source": [
    "numbers = [10, 5, 7, 2,1]\n",
    "\n",
    "#Imprimir el contenido de la lista\n",
    "print (f'Contenido de la lista: {numbers}')"
   ]
  },
  {
   "cell_type": "code",
   "execution_count": 16,
   "id": "7c1a923d",
   "metadata": {},
   "outputs": [
    {
     "data": {
      "text/plain": [
       "7"
      ]
     },
     "execution_count": 16,
     "metadata": {},
     "output_type": "execute_result"
    }
   ],
   "source": [
    "# Permite accesar al valor que se ecuentra en la posicion\n",
    "numbers[2]"
   ]
  },
  {
   "cell_type": "markdown",
   "id": "59f47158",
   "metadata": {},
   "source": [
    "**Vamos asignar un nuevo valor 111 al primer elemento en la lista. Lo hacemos de la siguiente manera:**"
   ]
  },
  {
   "cell_type": "code",
   "execution_count": 26,
   "id": "ceb6ce7b",
   "metadata": {},
   "outputs": [
    {
     "name": "stdout",
     "output_type": "stream",
     "text": [
      "[111, 5, 7, 2, 1]\n"
     ]
    }
   ],
   "source": [
    "numbers[0] = 111\n",
    "print(numbers)"
   ]
  },
  {
   "cell_type": "code",
   "execution_count": 27,
   "id": "b516776f",
   "metadata": {},
   "outputs": [
    {
     "name": "stdout",
     "output_type": "stream",
     "text": [
      "[111, 1, 7, 2, 1]\n"
     ]
    }
   ],
   "source": [
    "# Copiar el valor del 5 valor al segundo \n",
    "numbers[1] = numbers[4]\n",
    "\n",
    "print(numbers)"
   ]
  },
  {
   "cell_type": "code",
   "execution_count": 20,
   "id": "94ea2f93",
   "metadata": {},
   "outputs": [
    {
     "name": "stdout",
     "output_type": "stream",
     "text": [
      "1\n",
      "2\n"
     ]
    }
   ],
   "source": [
    "print(numbers[-1])\n",
    "print(numbers[-2])\n"
   ]
  },
  {
   "cell_type": "markdown",
   "id": "ac4b0156",
   "metadata": {},
   "source": [
    "### Eliminando de la lista "
   ]
  },
  {
   "cell_type": "markdown",
   "id": "d43da533",
   "metadata": {},
   "source": [
    "Cualquier elemento de la lista puede ser eliminado en cualquier momento - esto se hace con una instrucción llamada del (eliminar). Nota: es una instrucción, no una función.\n",
    "\n",
    "Tienes que apuntar al elemento que quieres eliminar - desaparecerá de la lista y la longitud de la lista se reducirá en uno."
   ]
  },
  {
   "cell_type": "code",
   "execution_count": 28,
   "id": "72175986",
   "metadata": {},
   "outputs": [
    {
     "name": "stdout",
     "output_type": "stream",
     "text": [
      "La lista actual es: [111, 1, 7, 2, 1]\n"
     ]
    }
   ],
   "source": [
    "print(f'La lista actual es: {numbers}')\n",
    "del numbers[2]\n"
   ]
  },
  {
   "cell_type": "code",
   "execution_count": 31,
   "id": "f29eb87d",
   "metadata": {},
   "outputs": [
    {
     "name": "stdout",
     "output_type": "stream",
     "text": [
      "La lista actual es:[111, 1, 2, 1]\n",
      "El tamaño de la lista es: 4\n"
     ]
    }
   ],
   "source": [
    "print(f'La lista actual es:{numbers}')\n",
    "print(f'El tamaño de la lista es: {len(numbers)}')"
   ]
  },
  {
   "cell_type": "code",
   "execution_count": 32,
   "id": "60f21c43",
   "metadata": {},
   "outputs": [
    {
     "name": "stdout",
     "output_type": "stream",
     "text": [
      "La lista actual es:[111, 1, 1]\n",
      "El tamaño de la lista es: 3\n"
     ]
    }
   ],
   "source": [
    "del numbers[-2]\n",
    "print(f'La lista actual es:{numbers}')\n",
    "print(f'El tamaño de la lista es: {len(numbers)}')"
   ]
  },
  {
   "cell_type": "code",
   "execution_count": 43,
   "id": "77565689",
   "metadata": {},
   "outputs": [],
   "source": [
    "lista_prueba = [1, 2, 4, 6, 2, 11, 2]\n",
    "# Remove -> Elimina o remueve la primera coincidencia de un valor que se le indica\n",
    "lista_prueba.remove(2)\n"
   ]
  },
  {
   "cell_type": "code",
   "execution_count": 35,
   "id": "8b34e572",
   "metadata": {},
   "outputs": [
    {
     "name": "stdout",
     "output_type": "stream",
     "text": [
      "La lista actual es:[1, 4, 6, 2, 11]\n",
      "El tamaño de la lista es: 5\n"
     ]
    }
   ],
   "source": [
    "print(f'La lista actual es:{lista_prueba}')\n",
    "print(f'El tamaño de la lista es: {len(lista_prueba)}')"
   ]
  },
  {
   "cell_type": "code",
   "execution_count": 45,
   "id": "a1db3832",
   "metadata": {},
   "outputs": [],
   "source": [
    "def eliminar (valor):\n",
    "    \n",
    "    for indice, elemento in enumerate(lista_prueba):\n",
    "       # print(f'Indice: {indice}, Elemento: {elemento} ')\n",
    "       if elemento == valor:\n",
    "           del lista_prueba[indice]"
   ]
  },
  {
   "cell_type": "code",
   "execution_count": 46,
   "id": "3a824f4b",
   "metadata": {},
   "outputs": [
    {
     "name": "stdout",
     "output_type": "stream",
     "text": [
      "Lista Actual [1, 4, 6, 2, 11, 2]\n",
      "Lista Despues de Eliminar [1, 4, 6, 11]\n"
     ]
    }
   ],
   "source": [
    "print(f'Lista Actual {lista_prueba}')\n",
    "eliminar(2)\n",
    "print(f'Lista Despues de Eliminar {lista_prueba}')"
   ]
  },
  {
   "cell_type": "markdown",
   "id": "f28a973b",
   "metadata": {},
   "source": [
    "### Los Indices Negativos son Legales\n",
    "` Un elemento con indice igual a -1 es el ultimo en la lista`"
   ]
  },
  {
   "cell_type": "code",
   "execution_count": 47,
   "id": "17df0b21",
   "metadata": {},
   "outputs": [
    {
     "name": "stdout",
     "output_type": "stream",
     "text": [
      "El ultimo valor de la lista es: 1\n"
     ]
    }
   ],
   "source": [
    "numbers_2 = [111,7,2,1]\n",
    "print (f'El ultimo valor de la lista es: {numbers_2[-1]}')"
   ]
  },
  {
   "cell_type": "code",
   "execution_count": 48,
   "id": "0a6f4bee",
   "metadata": {},
   "outputs": [
    {
     "name": "stdout",
     "output_type": "stream",
     "text": [
      "[1, 2, 3, 4, 5]\n"
     ]
    }
   ],
   "source": [
    "## Ejercicio de Listas \n",
    "\n",
    "hat_list = [1, 2, 3, 4, 5]  # Esta es una lista existente de números ocultos en el sombrero.\n",
    "\n",
    "# Paso 1: escribe una línea de código que solicite al usuario\n",
    "# reemplazar el número de en medio con un número entero ingresado por el usuario.\n",
    "\n",
    "# Paso 2: escribe aquí una línea de código que elimine el último elemento de la lista.\n",
    "\n",
    "# Paso 3: escribe aquí una línea de código que imprima la longitud de la lista existente.\n",
    "\n",
    "print(hat_list)"
   ]
  },
  {
   "cell_type": "markdown",
   "id": "a210480a",
   "metadata": {},
   "source": [
    "## Agregando elementos a una lista: append() e insert()\n",
    "\n",
    "Un nuevo elemento puede ser añadido al final de la lista existente:\n",
    "\n",
    "`list.append(value)`\n",
    "\n",
    "El metodo `insert()` es un poco mas inteligente - puede agregar un nuevo elemento en cualquier lugar de la lista, no solo al final\n",
    "\n",
    "`list.insert(location, value)`\n",
    "\n",
    "Toma dos argumentos:\n",
    "\n",
    "- el primero muestra la ubicación requerida del elemento a insertar; nota: todos los elementos existentes que ocupan ubicaciones a la derecha del nuevo elemento (incluido el que está en la posición indicada) se desplazan a la derecha, para hacer espacio para el nuevo elemento;\n",
    "\n",
    "- el segundo es el elemento a insertar."
   ]
  },
  {
   "cell_type": "code",
   "execution_count": 51,
   "id": "8131f049",
   "metadata": {},
   "outputs": [
    {
     "name": "stdout",
     "output_type": "stream",
     "text": [
      "La lista original es: [123, 8, 4, 1]\n",
      "El Tamaño de la lista es 4\n",
      "La lista original es: [123, 8, 4, 1, 10]\n",
      "El Tamaño de la lista es 5\n"
     ]
    }
   ],
   "source": [
    "numbers_3 = [123, 8, 4, 1]\n",
    "print(f'La lista original es: {numbers_3}')\n",
    "print(f'El Tamaño de la lista es {len(numbers_3)}')\n",
    "\n",
    "# Agregar un valor al final de la lista con el metodo append\n",
    "numbers_3.append(10)\n",
    "print(f'La lista original es: {numbers_3}')\n",
    "print(f'El Tamaño de la lista es {len(numbers_3)}')\n"
   ]
  },
  {
   "cell_type": "code",
   "execution_count": 52,
   "id": "b811b062",
   "metadata": {},
   "outputs": [],
   "source": [
    "def agregarAlFinal (valor):\n",
    "    numbers_3[-1] = valor"
   ]
  },
  {
   "cell_type": "code",
   "execution_count": 53,
   "id": "1310ab2e",
   "metadata": {},
   "outputs": [
    {
     "name": "stdout",
     "output_type": "stream",
     "text": [
      "La lista original es: [123, 8, 4, 1, 11]\n",
      "El Tamaño de la lista es 5\n"
     ]
    }
   ],
   "source": [
    "agregarAlFinal(11)\n",
    "print(f'La lista original es: {numbers_3}')\n",
    "print(f'El Tamaño de la lista es {len(numbers_3)}')"
   ]
  },
  {
   "cell_type": "code",
   "execution_count": 55,
   "id": "687427f6",
   "metadata": {},
   "outputs": [
    {
     "name": "stdout",
     "output_type": "stream",
     "text": [
      "La lista original es: [123, 8, 4, 1, 11]\n",
      "El Tamaño de la lista es 5\n",
      "La lista original es: [222, 123, 8, 4, 1, 11]\n",
      "El Tamaño de la lista es 6\n"
     ]
    }
   ],
   "source": [
    "## Metodo Insert\n",
    "print(f'La lista original es: {numbers_3}')\n",
    "print(f'El Tamaño de la lista es {len(numbers_3)}')\n",
    "\n",
    "numbers_3.insert(0, 222)\n",
    "\n",
    "print(f'La lista original es: {numbers_3}')\n",
    "print(f'El Tamaño de la lista es {len(numbers_3)}')"
   ]
  },
  {
   "cell_type": "code",
   "execution_count": 73,
   "id": "b1de3d97",
   "metadata": {},
   "outputs": [],
   "source": [
    "def llenar_lista_append(valor):\n",
    "    my_list = [] #crea una lista vacia\n",
    "\n",
    "    for i in range(valor):\n",
    "        my_list.append(i + 1)\n",
    "\n",
    "    return my_list"
   ]
  },
  {
   "cell_type": "code",
   "execution_count": 76,
   "id": "ac9c1bc4",
   "metadata": {},
   "outputs": [],
   "source": [
    "def imprimir_lista(lista):\n",
    "        print(f'La lista es: {lista}')"
   ]
  },
  {
   "cell_type": "code",
   "execution_count": 77,
   "id": "210fc603",
   "metadata": {},
   "outputs": [
    {
     "name": "stdout",
     "output_type": "stream",
     "text": [
      "La lista es: [1, 2, 3, 4, 5, 6, 7, 8, 9, 10]\n"
     ]
    }
   ],
   "source": [
    "lista = llenar_lista_append(10)\n",
    "imprimir_lista(lista)"
   ]
  },
  {
   "cell_type": "code",
   "execution_count": 72,
   "id": "c2a5d3ea",
   "metadata": {},
   "outputs": [
    {
     "name": "stdout",
     "output_type": "stream",
     "text": [
      "[5, 4, 3, 2, 1]\n"
     ]
    }
   ],
   "source": [
    "my_list = []\n",
    "\n",
    "for i in range (5):\n",
    "    my_list.insert(0, i+1)\n",
    "print(my_list)"
   ]
  },
  {
   "cell_type": "code",
   "execution_count": 78,
   "id": "6a183468",
   "metadata": {},
   "outputs": [
    {
     "name": "stdout",
     "output_type": "stream",
     "text": [
      "10\n",
      "1\n",
      "8\n",
      "3\n",
      "5\n"
     ]
    }
   ],
   "source": [
    "mi_lista = [10,1,8,3,5]\n",
    "\n",
    "for i in mi_lista:\n",
    "    print(i)"
   ]
  },
  {
   "cell_type": "code",
   "execution_count": 79,
   "id": "e4064644",
   "metadata": {},
   "outputs": [
    {
     "name": "stdout",
     "output_type": "stream",
     "text": [
      "La suma de los valores de la lista es 27\n"
     ]
    }
   ],
   "source": [
    "# Sumar los valores de la lista\n",
    "\n",
    "total = 0\n",
    "\n",
    "for i in mi_lista:\n",
    "    total += i\n",
    "\n",
    "print(f'La suma de los valores de la lista es {total}')"
   ]
  },
  {
   "cell_type": "markdown",
   "id": "7507a77f",
   "metadata": {},
   "source": [
    "#### Realizar un programa que permita almacenar varias calificaciones en una lista para poder sacar el promedio de ellas, utilizando una funcion "
   ]
  },
  {
   "cell_type": "code",
   "execution_count": 86,
   "id": "cfd29119",
   "metadata": {},
   "outputs": [],
   "source": [
    "def guardar_calificaciones( numero ):\n",
    "    lista_calificaciones = []\n",
    "    i = 1\n",
    "    while i <= numero:\n",
    "        calificacion = float(input(f'Solicita la calificacion {i}'))\n",
    "        lista_calificaciones.append(calificacion)\n",
    "        i += 1\n",
    "    return lista_calificaciones"
   ]
  },
  {
   "cell_type": "code",
   "execution_count": 87,
   "id": "9ec8ec69",
   "metadata": {},
   "outputs": [
    {
     "name": "stdout",
     "output_type": "stream",
     "text": [
      "[6.0, 9.0, 10.0, 9.0, 9.0]\n"
     ]
    }
   ],
   "source": [
    "lista = guardar_calificaciones( 5 )\n",
    "print (lista)"
   ]
  },
  {
   "cell_type": "code",
   "execution_count": 88,
   "id": "fba9b25a",
   "metadata": {},
   "outputs": [],
   "source": [
    "def guardar_calificaciones_2( numero ):\n",
    "    lista_calificaciones = []\n",
    "    i = 1\n",
    "    for i in range (numero):\n",
    "        calificacion = float(input(f'Solicita la calificacion {i}'))\n",
    "        lista_calificaciones.append(calificacion)\n",
    "        i += 1\n",
    "    return lista_calificaciones"
   ]
  },
  {
   "cell_type": "code",
   "execution_count": 90,
   "id": "3940b20a",
   "metadata": {},
   "outputs": [
    {
     "name": "stdout",
     "output_type": "stream",
     "text": [
      "[8.0, 9.0, 8.0, 9.0, 8.0]\n"
     ]
    }
   ],
   "source": [
    "lista = guardar_calificaciones_2( 5 )\n",
    "print (lista)"
   ]
  }
 ],
 "metadata": {
  "kernelspec": {
   "display_name": "Python 3",
   "language": "python",
   "name": "python3"
  },
  "language_info": {
   "codemirror_mode": {
    "name": "ipython",
    "version": 3
   },
   "file_extension": ".py",
   "mimetype": "text/x-python",
   "name": "python",
   "nbconvert_exporter": "python",
   "pygments_lexer": "ipython3",
   "version": "3.13.1"
  }
 },
 "nbformat": 4,
 "nbformat_minor": 5
}
