{
 "cells": [
  {
   "cell_type": "markdown",
   "id": "226a30bd",
   "metadata": {},
   "source": [
    "# Operaciones con Listas"
   ]
  },
  {
   "cell_type": "markdown",
   "id": "3520e5cc",
   "metadata": {},
   "source": [
    "## Copiar una lista a otra"
   ]
  },
  {
   "cell_type": "code",
   "execution_count": null,
   "id": "ceabd479",
   "metadata": {},
   "outputs": [
    {
     "name": "stdout",
     "output_type": "stream",
     "text": [
      "Lista 1: [1]\n",
      "Lista 2: [1]\n"
     ]
    }
   ],
   "source": [
    "# Forma incorrecta de copiar una lista\n",
    "lista_1 = [1]\n",
    "lista_2 = lista_1\n",
    "\n",
    "print(f'Lista 1: {lista_1}\\nLista 2: {lista_2}')"
   ]
  },
  {
   "cell_type": "code",
   "execution_count": 5,
   "id": "d637b376",
   "metadata": {},
   "outputs": [],
   "source": [
    "lista_2.append(10)"
   ]
  },
  {
   "cell_type": "code",
   "execution_count": 6,
   "id": "4291d504",
   "metadata": {},
   "outputs": [
    {
     "name": "stdout",
     "output_type": "stream",
     "text": [
      "[1, 10]\n"
     ]
    }
   ],
   "source": [
    "print(lista_2)"
   ]
  },
  {
   "cell_type": "code",
   "execution_count": 7,
   "id": "9626a56e",
   "metadata": {},
   "outputs": [
    {
     "name": "stdout",
     "output_type": "stream",
     "text": [
      "[1, 10]\n"
     ]
    }
   ],
   "source": [
    "print(lista_1)"
   ]
  },
  {
   "cell_type": "markdown",
   "id": "e9f17c4e",
   "metadata": {},
   "source": [
    "## Slicing o Rebanadas"
   ]
  },
  {
   "cell_type": "code",
   "execution_count": 8,
   "id": "c9c552a9",
   "metadata": {},
   "outputs": [
    {
     "data": {
      "text/plain": [
       "[3, 4, 5, 6, 7, 8]"
      ]
     },
     "execution_count": 8,
     "metadata": {},
     "output_type": "execute_result"
    }
   ],
   "source": [
    "list_1 = [3,4,5,6,7,8]\n",
    "list_1[:]"
   ]
  },
  {
   "cell_type": "code",
   "execution_count": 10,
   "id": "73bcc1a1",
   "metadata": {},
   "outputs": [
    {
     "data": {
      "text/plain": [
       "[3, 4, 5, 6, 7, 8, 11]"
      ]
     },
     "execution_count": 10,
     "metadata": {},
     "output_type": "execute_result"
    }
   ],
   "source": [
    "# Forma Correcta\n",
    "\n",
    "list_2 = list_1[:]\n",
    "list_2.append(11)\n",
    "list_2"
   ]
  },
  {
   "cell_type": "code",
   "execution_count": 11,
   "id": "79463c40",
   "metadata": {},
   "outputs": [
    {
     "data": {
      "text/plain": [
       "[3, 4, 5, 6, 7, 8]"
      ]
     },
     "execution_count": 11,
     "metadata": {},
     "output_type": "execute_result"
    }
   ],
   "source": [
    "list_1"
   ]
  },
  {
   "cell_type": "code",
   "execution_count": 13,
   "id": "7c620604",
   "metadata": {},
   "outputs": [
    {
     "name": "stdout",
     "output_type": "stream",
     "text": [
      "[4, 6, 7, 9, 12]\n"
     ]
    }
   ],
   "source": [
    "x = [4,6,7,9,12]\n",
    "y = []\n",
    "\n",
    "y = x.copy()\n",
    "\n",
    "print(y)"
   ]
  },
  {
   "cell_type": "markdown",
   "id": "50b51f83",
   "metadata": {},
   "source": [
    "### Slicing o Rebanadas - Indices Nehativos\n",
    "\n",
    "Observa  el fragmento de codigo a continuacion:\n",
    "\n",
    "`my_list[start:end]`\n",
    "\n",
    "para confirmar:\n",
    "\n",
    "1. **start** es el indice del primer elemento incluido en la rebanada\n",
    "2. **end** es el indice del primer elemento no incluido en la rebanada"
   ]
  },
  {
   "cell_type": "code",
   "execution_count": 16,
   "id": "361dd46f",
   "metadata": {},
   "outputs": [
    {
     "data": {
      "text/plain": [
       "[10, 8]"
      ]
     },
     "execution_count": 16,
     "metadata": {},
     "output_type": "execute_result"
    }
   ],
   "source": [
    "#Imprimir del 10 al 6: Forma incorrecta\n",
    "lista = [10,8,6,4,2]\n",
    "lista[0:2]"
   ]
  },
  {
   "cell_type": "code",
   "execution_count": 17,
   "id": "17da054e",
   "metadata": {},
   "outputs": [
    {
     "data": {
      "text/plain": [
       "[10, 8, 6]"
      ]
     },
     "execution_count": 17,
     "metadata": {},
     "output_type": "execute_result"
    }
   ],
   "source": [
    "#Imprimir del 10 al 6: Forma correcta\n",
    "lista = [10,8,6,4,2]\n",
    "lista[0:3]"
   ]
  },
  {
   "cell_type": "code",
   "execution_count": 18,
   "id": "b3603d74",
   "metadata": {},
   "outputs": [
    {
     "name": "stdout",
     "output_type": "stream",
     "text": [
      "La lista original es: [10, 8, 6, 4, 2]\n",
      "La nueva lista es: [10, 8, 6]\n"
     ]
    }
   ],
   "source": [
    "lista = [10,8,6,4,2]\n",
    "lista2 = lista[0:3]\n",
    "print(f'La lista original es: {lista}\\nLa nueva lista es: {lista2}')"
   ]
  },
  {
   "cell_type": "code",
   "execution_count": null,
   "id": "ca679fe4",
   "metadata": {},
   "outputs": [
    {
     "data": {
      "text/plain": [
       "[6, 4]"
      ]
     },
     "execution_count": 19,
     "metadata": {},
     "output_type": "execute_result"
    }
   ],
   "source": [
    "# Otra forma con negativo\n",
    "lista[2:-1]"
   ]
  },
  {
   "cell_type": "code",
   "execution_count": 20,
   "id": "ccac13ec",
   "metadata": {},
   "outputs": [
    {
     "data": {
      "text/plain": [
       "[8, 6, 4, 2]"
      ]
     },
     "execution_count": 20,
     "metadata": {},
     "output_type": "execute_result"
    }
   ],
   "source": [
    "lista[1:]"
   ]
  },
  {
   "cell_type": "code",
   "execution_count": 21,
   "id": "b9bce2d7",
   "metadata": {},
   "outputs": [
    {
     "data": {
      "text/plain": [
       "[10, 8, 6, 4, 2]"
      ]
     },
     "execution_count": 21,
     "metadata": {},
     "output_type": "execute_result"
    }
   ],
   "source": [
    "lista[:]"
   ]
  },
  {
   "cell_type": "code",
   "execution_count": 23,
   "id": "e03d6df2",
   "metadata": {},
   "outputs": [
    {
     "data": {
      "text/plain": [
       "[10, 8, 6]"
      ]
     },
     "execution_count": 23,
     "metadata": {},
     "output_type": "execute_result"
    }
   ],
   "source": [
    "lista[:3]"
   ]
  },
  {
   "cell_type": "code",
   "execution_count": 24,
   "id": "04e5a0fb",
   "metadata": {},
   "outputs": [
    {
     "data": {
      "text/plain": [
       "[]"
      ]
     },
     "execution_count": 24,
     "metadata": {},
     "output_type": "execute_result"
    }
   ],
   "source": [
    "lista[4:-1]"
   ]
  },
  {
   "cell_type": "code",
   "execution_count": 1,
   "id": "9925f70b",
   "metadata": {},
   "outputs": [
    {
     "data": {
      "text/plain": [
       "[10, 6, 2]"
      ]
     },
     "execution_count": 1,
     "metadata": {},
     "output_type": "execute_result"
    }
   ],
   "source": [
    "# Dada la lista [10,8,4,6,2] eliminar los numeros 8 y 6\n",
    "\n",
    "lista_3 = [10,8,4,6,2]\n",
    "\n",
    "del lista_3[1:3]\n",
    "\n",
    "lista_3"
   ]
  },
  {
   "cell_type": "markdown",
   "id": "e5ee62c4",
   "metadata": {},
   "source": [
    "### `pop` remueve el ultimo elemento de la lista si se llama sin argumentos"
   ]
  },
  {
   "cell_type": "code",
   "execution_count": 2,
   "id": "c4cbdff1",
   "metadata": {},
   "outputs": [
    {
     "data": {
      "text/plain": [
       "[10, 6, 2]"
      ]
     },
     "execution_count": 2,
     "metadata": {},
     "output_type": "execute_result"
    }
   ],
   "source": [
    "lista_3"
   ]
  },
  {
   "cell_type": "code",
   "execution_count": 3,
   "id": "cb2403de",
   "metadata": {},
   "outputs": [
    {
     "data": {
      "text/plain": [
       "[10, 6]"
      ]
     },
     "execution_count": 3,
     "metadata": {},
     "output_type": "execute_result"
    }
   ],
   "source": [
    "lista_3.pop()\n",
    "lista_3"
   ]
  },
  {
   "cell_type": "code",
   "execution_count": null,
   "id": "3dc39512",
   "metadata": {},
   "outputs": [],
   "source": [
    "lista_3.append(7)\n",
    "lista_3.append(5)\n",
    "lista_3.append(9)\n",
    "lista_3.append(11)"
   ]
  },
  {
   "cell_type": "code",
   "execution_count": 6,
   "id": "6abde339",
   "metadata": {},
   "outputs": [],
   "source": [
    "lista_3.append(5)"
   ]
  },
  {
   "cell_type": "code",
   "execution_count": 5,
   "id": "9d0f0b32",
   "metadata": {},
   "outputs": [
    {
     "data": {
      "text/plain": [
       "[10, 6, 7, 5, 9, 11]"
      ]
     },
     "execution_count": 5,
     "metadata": {},
     "output_type": "execute_result"
    }
   ],
   "source": [
    "lista_3"
   ]
  },
  {
   "cell_type": "code",
   "execution_count": null,
   "id": "265ff33e",
   "metadata": {},
   "outputs": [
    {
     "data": {
      "text/plain": [
       "[10, 7, 5, 9, 11, 5]"
      ]
     },
     "execution_count": 7,
     "metadata": {},
     "output_type": "execute_result"
    }
   ],
   "source": [
    "lista_3.pop(1)\n",
    "lista_3"
   ]
  },
  {
   "cell_type": "code",
   "execution_count": 8,
   "id": "be1868d5",
   "metadata": {},
   "outputs": [
    {
     "name": "stdout",
     "output_type": "stream",
     "text": [
      "['a', 12, True]\n",
      "<class 'list'>\n"
     ]
    }
   ],
   "source": [
    "list_example = [\"a\",12,True]\n",
    "print(list_example)\n",
    "print(type(list_example))"
   ]
  },
  {
   "cell_type": "code",
   "execution_count": 12,
   "id": "dd2b85aa",
   "metadata": {},
   "outputs": [
    {
     "name": "stdout",
     "output_type": "stream",
     "text": [
      "[['hallway', 100], ['kitchen', 85]]\n",
      "<class 'list'>\n"
     ]
    }
   ],
   "source": [
    "# Lista de listas\n",
    "\n",
    "list_house = [['hallway', 100],['kitchen', 85]]\n",
    "print(list_house)\n",
    "print(type(list_house))"
   ]
  },
  {
   "cell_type": "code",
   "execution_count": null,
   "id": "e9ba5d91",
   "metadata": {},
   "outputs": [
    {
     "data": {
      "text/plain": [
       "100"
      ]
     },
     "execution_count": 13,
     "metadata": {},
     "output_type": "execute_result"
    }
   ],
   "source": [
    "# Tiene acceso a la lista en la posicion 0 y su elemento en la posicion 1\n",
    "list_house[0][1]"
   ]
  },
  {
   "cell_type": "code",
   "execution_count": 14,
   "id": "99e6630f",
   "metadata": {},
   "outputs": [
    {
     "data": {
      "text/plain": [
       "'kitchen'"
      ]
     },
     "execution_count": 14,
     "metadata": {},
     "output_type": "execute_result"
    }
   ],
   "source": [
    "list_house[1][0]"
   ]
  },
  {
   "cell_type": "code",
   "execution_count": 24,
   "id": "b068498f",
   "metadata": {},
   "outputs": [
    {
     "name": "stdout",
     "output_type": "stream",
     "text": [
      "['Heidy', 22, 'Ines', 54, 'Henry', 33, 'Oscar', 38]\n"
     ]
    }
   ],
   "source": [
    "list_family = ['Heidy', 22, 'Ines', 54, 'Henry', 33, 'Oscar', 38]\n",
    "print(list_family)"
   ]
  },
  {
   "cell_type": "code",
   "execution_count": null,
   "id": "7f6840b1",
   "metadata": {},
   "outputs": [
    {
     "name": "stdout",
     "output_type": "stream",
     "text": [
      "Ines\n",
      "Ines\n"
     ]
    }
   ],
   "source": [
    "# Indexacion\n",
    "print(list_family[2])\n",
    "\n",
    "#Indexacion negativa\n",
    "print(list_family[-6])"
   ]
  },
  {
   "cell_type": "code",
   "execution_count": 18,
   "id": "fbfbb6ef",
   "metadata": {},
   "outputs": [
    {
     "name": "stdout",
     "output_type": "stream",
     "text": [
      "[54, 'Henry']\n",
      "['Heidy', 22, 'Ines', 54, 'Henry']\n",
      "[33, 'Oscar', 38]\n"
     ]
    }
   ],
   "source": [
    "# slicing [ start: end]\n",
    "#         inclusive: exclusive\n",
    "\n",
    "print(list_family[3:5]) # No toma el ultimo digito\n",
    "print(list_family[:5]) # Desde el inicio hasta la posicion 4\n",
    "print(list_family[5:]) # Desde la posicion 5 hasta el final"
   ]
  },
  {
   "cell_type": "markdown",
   "id": "b733b455",
   "metadata": {},
   "source": [
    "### **Manipulando Listas**"
   ]
  },
  {
   "cell_type": "code",
   "execution_count": 19,
   "id": "a63fe170",
   "metadata": {},
   "outputs": [
    {
     "name": "stdout",
     "output_type": "stream",
     "text": [
      "['Heidy', 22, 'Ines', 54, 'Henry', 33, 'Oscar', 38]\n"
     ]
    }
   ],
   "source": [
    "print(list_family)"
   ]
  },
  {
   "cell_type": "code",
   "execution_count": 20,
   "id": "921e3048",
   "metadata": {},
   "outputs": [],
   "source": [
    "list_family[-1] = 37"
   ]
  },
  {
   "cell_type": "code",
   "execution_count": 21,
   "id": "737a567e",
   "metadata": {},
   "outputs": [
    {
     "name": "stdout",
     "output_type": "stream",
     "text": [
      "['Heidy', 22, 'Ines', 54, 'Henry', 33, 'Oscar', 37]\n"
     ]
    }
   ],
   "source": [
    "print(list_family)"
   ]
  },
  {
   "cell_type": "code",
   "execution_count": 22,
   "id": "48ee9347",
   "metadata": {},
   "outputs": [],
   "source": [
    "list_family[:2] = [\"Mayumy\", 24]"
   ]
  },
  {
   "cell_type": "code",
   "execution_count": 23,
   "id": "741b9861",
   "metadata": {},
   "outputs": [
    {
     "name": "stdout",
     "output_type": "stream",
     "text": [
      "['Mayumy', 24, 'Ines', 54, 'Henry', 33, 'Oscar', 37]\n"
     ]
    }
   ],
   "source": [
    "print(list_family)"
   ]
  },
  {
   "cell_type": "code",
   "execution_count": 25,
   "id": "05966f47",
   "metadata": {},
   "outputs": [
    {
     "name": "stdout",
     "output_type": "stream",
     "text": [
      "['Heidy', 22, 'Ines', 54, 'Henry', 33, 'Oscar', 38]\n"
     ]
    }
   ],
   "source": [
    "print(list_family)"
   ]
  },
  {
   "cell_type": "code",
   "execution_count": 27,
   "id": "14dd8c02",
   "metadata": {},
   "outputs": [
    {
     "name": "stdout",
     "output_type": "stream",
     "text": [
      "['Heidy', 22, 'Ines', 54, 'Henry', 33, 'Oscar', 38, 'Achuchena', 12]\n",
      "['Heidy', 22, 'Ines', 'Henry', 33, 'Oscar', 38, 'Achuchena', 12]\n"
     ]
    }
   ],
   "source": [
    "# Agregar y remover elementos de la lista\n",
    "\n",
    "# Agregar\n",
    "fam_Ext = list_family + ['Achuchena', 12]\n",
    "print(fam_Ext)\n",
    "\n",
    "# Eliminar\n",
    "del(fam_Ext[3])\n",
    "#fam_Ext.pop(3)\n",
    "#fam_Ext.remove(54)\n",
    "print(fam_Ext)"
   ]
  },
  {
   "cell_type": "code",
   "execution_count": 32,
   "id": "483a32df",
   "metadata": {},
   "outputs": [],
   "source": [
    "# Ejercicio - eliminar 'poolhouse' y 24.5\n",
    "\n",
    "areas = [\"hallway\", 11.25, 'kitchen', 18.0,\n",
    "         \"chill zone\", 20.0, 'bedroom', 10.75,\n",
    "         \"bathroom\", 10.50, \"poolhouse\", 24.5,\n",
    "         'garage', 15.45]"
   ]
  },
  {
   "cell_type": "code",
   "execution_count": 34,
   "id": "ec00b466",
   "metadata": {},
   "outputs": [],
   "source": [
    "del(areas[-4:-2])"
   ]
  },
  {
   "cell_type": "code",
   "execution_count": 35,
   "id": "366e9b59",
   "metadata": {},
   "outputs": [
    {
     "name": "stdout",
     "output_type": "stream",
     "text": [
      "['hallway', 11.25, 'kitchen', 18.0, 'chill zone', 20.0, 'bedroom', 10.75, 'bathroom', 10.5, 'garage', 15.45]\n"
     ]
    }
   ],
   "source": [
    "print(areas)"
   ]
  },
  {
   "cell_type": "markdown",
   "id": "8f8a6af6",
   "metadata": {},
   "source": [
    "## Funciones y Paquetes"
   ]
  },
  {
   "cell_type": "markdown",
   "id": "46ae7680",
   "metadata": {},
   "source": [
    "## **Funcion**\n",
    "\n",
    "Es una pieza de codigo reutilizable, destinada a resolver una tarea en particular"
   ]
  },
  {
   "cell_type": "code",
   "execution_count": 36,
   "id": "9499bdd6",
   "metadata": {},
   "outputs": [
    {
     "name": "stdout",
     "output_type": "stream",
     "text": [
      "[22, 54, 33, 38, 36]\n",
      "El tamaño de la lista es 5\n",
      "El valor maximo de la lista es 54\n"
     ]
    }
   ],
   "source": [
    "list_fam = [22, 54, 33, 38, 36]\n",
    "print(list_fam)\n",
    "print(f'El tamaño de la lista es {len(list_fam)}')\n",
    "print(f'El valor maximo de la lista es {max(list_fam)}')"
   ]
  },
  {
   "cell_type": "code",
   "execution_count": 37,
   "id": "19ca660b",
   "metadata": {},
   "outputs": [
    {
     "data": {
      "text/plain": [
       "2"
      ]
     },
     "execution_count": 37,
     "metadata": {},
     "output_type": "execute_result"
    }
   ],
   "source": [
    "round(1.8869)"
   ]
  },
  {
   "cell_type": "code",
   "execution_count": 38,
   "id": "4c8f154f",
   "metadata": {},
   "outputs": [
    {
     "name": "stdout",
     "output_type": "stream",
     "text": [
      "Help on built-in function round in module builtins:\n",
      "\n",
      "round(number, ndigits=None)\n",
      "    Round a number to a given precision in decimal digits.\n",
      "\n",
      "    The return value is an integer if ndigits is omitted or None.  Otherwise\n",
      "    the return value has the same type as the number.  ndigits may be negative.\n",
      "\n"
     ]
    }
   ],
   "source": [
    "help(round)"
   ]
  },
  {
   "cell_type": "code",
   "execution_count": 39,
   "id": "f84ed24d",
   "metadata": {},
   "outputs": [
    {
     "name": "stdout",
     "output_type": "stream",
     "text": [
      "[18.0, 20.0, 51.25]\n",
      "[18.0, 20.0, 51.25]\n",
      "[51.25, 20.0, 18.0]\n"
     ]
    }
   ],
   "source": [
    "first = [51.25,18.0,20.0]\n",
    "full_sorted = sorted(first) # Ordenar de forma ascendente\n",
    "full_sorted_asc = sorted(first, reverse=False) # Ascendente\n",
    "full_sorted_desc = sorted(first, reverse=True) # Descendente\n",
    "\n",
    "print(full_sorted)\n",
    "print(full_sorted_asc)\n",
    "print(full_sorted_desc)"
   ]
  },
  {
   "cell_type": "markdown",
   "id": "1fc88ba2",
   "metadata": {},
   "source": [
    "### **Metodos**\n",
    "\n",
    "En python todo es objeto. Y cada objeto tiene metodos especificos asociados\n",
    "\n",
    "- Objetos con diferentes tipos pueden tener metodos con el mimo nombre\n"
   ]
  },
  {
   "cell_type": "code",
   "execution_count": 41,
   "id": "1db77161",
   "metadata": {},
   "outputs": [
    {
     "name": "stdout",
     "output_type": "stream",
     "text": [
      "indice: 4\n",
      "Contar: 2\n"
     ]
    }
   ],
   "source": [
    "list_fam = ['Heidy', 22, 'Ines', 54, 'Henry', 33, 'Oscar', 54]\n",
    "\n",
    "print(f\"indice: {list_fam.index('Henry')}\") # Obtiene el indice\n",
    "print(f'Contar: {list_fam.count(54)}') # Contar cuantas veces aparece algo"
   ]
  },
  {
   "cell_type": "code",
   "execution_count": 42,
   "id": "14c50127",
   "metadata": {},
   "outputs": [
    {
     "name": "stdout",
     "output_type": "stream",
     "text": [
      "['Heidy', 22, 'Ines', 54, 33, 'Oscar', 54]\n"
     ]
    }
   ],
   "source": [
    "del(list_fam[list_fam.index('Henry')])\n",
    "print(list_fam)"
   ]
  },
  {
   "cell_type": "code",
   "execution_count": 43,
   "id": "f6b7b012",
   "metadata": {},
   "outputs": [
    {
     "name": "stdout",
     "output_type": "stream",
     "text": [
      "Mayumi\n"
     ]
    }
   ],
   "source": [
    "name = \"mayumi\"\n",
    "print(name.capitalize())"
   ]
  },
  {
   "cell_type": "code",
   "execution_count": 44,
   "id": "784d670f",
   "metadata": {},
   "outputs": [
    {
     "name": "stdout",
     "output_type": "stream",
     "text": [
      "Susel\n"
     ]
    }
   ],
   "source": [
    "lista_entornos = ['susel', 'brandon', 'alejandro', 'gabriel']\n",
    "lista_entornos = lista_entornos[0].capitalize()\n",
    "print(lista_entornos)"
   ]
  },
  {
   "cell_type": "code",
   "execution_count": 45,
   "id": "27c05e4e",
   "metadata": {},
   "outputs": [
    {
     "name": "stdout",
     "output_type": "stream",
     "text": [
      "ma*umi\n"
     ]
    }
   ],
   "source": [
    "print(name.replace('y', '*'))"
   ]
  },
  {
   "cell_type": "code",
   "execution_count": 46,
   "id": "457e7f1b",
   "metadata": {},
   "outputs": [
    {
     "data": {
      "text/plain": [
       "'MAYUMI'"
      ]
     },
     "execution_count": 46,
     "metadata": {},
     "output_type": "execute_result"
    }
   ],
   "source": [
    "name.upper()"
   ]
  },
  {
   "cell_type": "code",
   "execution_count": 47,
   "id": "94ec875e",
   "metadata": {},
   "outputs": [
    {
     "name": "stdout",
     "output_type": "stream",
     "text": [
      "['Heidy', 22, 'Ines', 54, 33, 'Oscar', 54]\n",
      "[54, 'Oscar', 33, 54, 'Ines', 22, 'Heidy']\n"
     ]
    }
   ],
   "source": [
    "print(list_fam)\n",
    "list_fam.reverse()\n",
    "print(list_fam)"
   ]
  }
 ],
 "metadata": {
  "kernelspec": {
   "display_name": "Python 3",
   "language": "python",
   "name": "python3"
  },
  "language_info": {
   "codemirror_mode": {
    "name": "ipython",
    "version": 3
   },
   "file_extension": ".py",
   "mimetype": "text/x-python",
   "name": "python",
   "nbconvert_exporter": "python",
   "pygments_lexer": "ipython3",
   "version": "3.13.3"
  }
 },
 "nbformat": 4,
 "nbformat_minor": 5
}
