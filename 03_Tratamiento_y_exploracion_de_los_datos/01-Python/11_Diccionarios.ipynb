{
 "cells": [
  {
   "cell_type": "markdown",
   "id": "68741df9",
   "metadata": {},
   "source": [
    "# Crear y Accesar a los Diccionarios"
   ]
  },
  {
   "cell_type": "markdown",
   "id": "182970d3",
   "metadata": {},
   "source": [
    "## Objetivos\n",
    "\n",
    "- Aprender a crear diccionarios pares para llaves - valor\n",
    "- Aprender a accesar  a los valores guardados en el diccionario\n",
    "\n",
    "--- "
   ]
  },
  {
   "cell_type": "markdown",
   "id": "eacfbe12",
   "metadata": {},
   "source": [
    "## Desarrollo:\n",
    "\n",
    "Los diccionarios se definen usando (`{}`)"
   ]
  },
  {
   "cell_type": "code",
   "execution_count": null,
   "id": "3ffadcd6",
   "metadata": {},
   "outputs": [],
   "source": [
    "diccionario_1 = {}"
   ]
  },
  {
   "cell_type": "markdown",
   "id": "0b027785",
   "metadata": {},
   "source": [
    "diccionario_1 ya es un diccionario. Solo que esta vacio. Para incluir datos dentro de un diccionario, tenemos que agregar pares llave - valor de ntro de las llaves ({}),. Cada par llave-valor se separa con una (,):"
   ]
  },
  {
   "cell_type": "code",
   "execution_count": null,
   "id": "1be8844c",
   "metadata": {},
   "outputs": [],
   "source": [
    "diccionario_2 = {\n",
    "    \"llave_1\":\"valor_1\",\n",
    "    \"llave_2\":\"valor_2\",\n",
    "    \"llave_3\":\"valor_3\",\n",
    "    \"llave_4\":\"valor_4\"\n",
    "}"
   ]
  },
  {
   "cell_type": "markdown",
   "id": "2db21a6b",
   "metadata": {},
   "source": [
    "Nuestras llaves pueden ser tanto `String` como `int` (pueden ser otra cosa, pero estos son los mas comunes)"
   ]
  },
  {
   "cell_type": "code",
   "execution_count": null,
   "id": "f59f1360",
   "metadata": {},
   "outputs": [],
   "source": [
    "diccionario_3 = {\n",
    "    1:\"Uno\",\n",
    "    2:\"Dos\",\n",
    "    3:\"Tres\",\n",
    "    4:\"Cuatro\"\n",
    "}"
   ]
  },
  {
   "cell_type": "markdown",
   "id": "a05c594d",
   "metadata": {},
   "source": [
    "Nuestros valotres pueden ser cualquier tipo de dato que se conosca hazta el momento"
   ]
  },
  {
   "cell_type": "code",
   "execution_count": null,
   "id": "a4645a72",
   "metadata": {},
   "outputs": [],
   "source": [
    "diccionario_4 = {\n",
    "    'int': 123,\n",
    "    'float': 23.56,\n",
    "    'string': 'Hola',\n",
    "    'bollean': True,\n",
    "    'lista': [1,2,3,4],\n",
    "    'diccionario': {\n",
    "        1: 'uno',\n",
    "        2: 'dos'\n",
    "    }\n",
    "}"
   ]
  },
  {
   "cell_type": "markdown",
   "id": "1589bd24",
   "metadata": {},
   "source": [
    "Acceder a un diccionario es tan facil como escribir el nombre de un diccionario, agregar corchetes (`[]`) y pasarle el nombre de la llave que quieres acceder. Por obias razones, un diccionario no puede tener mas de una llave con el mismo nombre. Si tenemos otras estructuras de datos dentro de nuestro diccionario, podemos acceder a los elementos denyro de ellas despues de haber accedido primero a la estructuras de datos:"
   ]
  },
  {
   "cell_type": "code",
   "execution_count": null,
   "id": "a38c1114",
   "metadata": {},
   "outputs": [
    {
     "name": "stdout",
     "output_type": "stream",
     "text": [
      "23.56\n"
     ]
    }
   ],
   "source": [
    "print(diccionario_4['float'])"
   ]
  },
  {
   "cell_type": "code",
   "execution_count": 8,
   "id": "bd306fd8",
   "metadata": {},
   "outputs": [
    {
     "name": "stdout",
     "output_type": "stream",
     "text": [
      "123\n"
     ]
    }
   ],
   "source": [
    "print(diccionario_4['int'])"
   ]
  },
  {
   "cell_type": "code",
   "execution_count": 9,
   "id": "e8d5a480",
   "metadata": {},
   "outputs": [
    {
     "name": "stdout",
     "output_type": "stream",
     "text": [
      "Hola\n"
     ]
    }
   ],
   "source": [
    "print(diccionario_4['string'])"
   ]
  },
  {
   "cell_type": "code",
   "execution_count": 10,
   "id": "64ec28c2",
   "metadata": {},
   "outputs": [
    {
     "name": "stdout",
     "output_type": "stream",
     "text": [
      "True\n"
     ]
    }
   ],
   "source": [
    "print(diccionario_4['bollean'])"
   ]
  },
  {
   "cell_type": "code",
   "execution_count": 11,
   "id": "36412729",
   "metadata": {},
   "outputs": [
    {
     "name": "stdout",
     "output_type": "stream",
     "text": [
      "[1, 2, 3, 4]\n"
     ]
    }
   ],
   "source": [
    "print(diccionario_4['lista'])"
   ]
  },
  {
   "cell_type": "code",
   "execution_count": 12,
   "id": "5bf0b4e8",
   "metadata": {},
   "outputs": [
    {
     "name": "stdout",
     "output_type": "stream",
     "text": [
      "{1: 'uno', 2: 'dos'}\n"
     ]
    }
   ],
   "source": [
    "print(diccionario_4['diccionario'])"
   ]
  },
  {
   "cell_type": "code",
   "execution_count": 13,
   "id": "a5f52bc4",
   "metadata": {},
   "outputs": [
    {
     "name": "stdout",
     "output_type": "stream",
     "text": [
      "3\n"
     ]
    }
   ],
   "source": [
    "print(diccionario_4['lista'][2])"
   ]
  }
 ],
 "metadata": {
  "kernelspec": {
   "display_name": "Python 3",
   "language": "python",
   "name": "python3"
  },
  "language_info": {
   "name": "python",
   "version": "3.11.9"
  }
 },
 "nbformat": 4,
 "nbformat_minor": 5
}
