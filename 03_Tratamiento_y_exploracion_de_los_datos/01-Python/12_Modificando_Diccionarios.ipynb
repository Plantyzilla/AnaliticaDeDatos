{
 "cells": [
  {
   "cell_type": "markdown",
   "id": "7e31bfbd",
   "metadata": {},
   "source": [
    "># Modificando diccionarios"
   ]
  },
  {
   "cell_type": "markdown",
   "id": "92639a18",
   "metadata": {},
   "source": [
    "## 1.- Objetivos\n",
    "- Practicar los 3 metos basicos de modificacion de diccionarios: **agregar datos, modificar datos y borrar llaves**"
   ]
  },
  {
   "cell_type": "markdown",
   "id": "02c07ce9",
   "metadata": {},
   "source": [
    "## 2.- Desarrollo\n",
    "\n",
    "Tenemos 3 maneras básicas de modificar los diccionarios\n",
    "\n",
    "---"
   ]
  },
  {
   "cell_type": "markdown",
   "id": "649b557f",
   "metadata": {},
   "source": [
    "### Agregar Datos\n",
    "Para agregar un dato a un diccionario ya existente, basta con llamar la llave que queremos agregar y asignar un valor"
   ]
  },
  {
   "cell_type": "code",
   "execution_count": 2,
   "id": "ef2708d0",
   "metadata": {},
   "outputs": [],
   "source": [
    "from pprint import pprint\n",
    "# import pandas as pd"
   ]
  },
  {
   "cell_type": "code",
   "execution_count": 4,
   "id": "6b197680",
   "metadata": {},
   "outputs": [
    {
     "name": "stdout",
     "output_type": "stream",
     "text": [
      "{'nombre': 'Maluma', 'tel': 5578812149, 'dir': {'colonia': 'El Capulin', 'calle': 'Ignacio Allende', 'num': 69, 'cp': 428330}}\n"
     ]
    }
   ],
   "source": [
    "info_de_contacto = {\n",
    "    'nombre': 'Maluma',\n",
    "    'tel': 5578812149,\n",
    "    'dir': {\n",
    "        'colonia': 'El Capulin',\n",
    "        'calle': 'Ignacio Allende',\n",
    "        'num':69,\n",
    "        'cp': 428330\n",
    "    }\n",
    "}\n",
    "\n",
    "print(info_de_contacto)"
   ]
  },
  {
   "cell_type": "code",
   "execution_count": 5,
   "id": "8f981773",
   "metadata": {},
   "outputs": [
    {
     "name": "stdout",
     "output_type": "stream",
     "text": [
      "{'dir': {'calle': 'Ignacio Allende',\n",
      "         'colonia': 'El Capulin',\n",
      "         'cp': 428330,\n",
      "         'num': 69},\n",
      " 'nombre': 'Maluma',\n",
      " 'tel': 5578812149}\n"
     ]
    }
   ],
   "source": [
    "pprint(info_de_contacto)"
   ]
  },
  {
   "cell_type": "code",
   "execution_count": 6,
   "id": "05590e1f",
   "metadata": {},
   "outputs": [],
   "source": [
    "info_de_contacto['email'] = 'Maluma_hasta_abajo@regechafa.com'"
   ]
  },
  {
   "cell_type": "markdown",
   "id": "f8bbf036",
   "metadata": {},
   "source": [
    "## Modificar pares llave-valor existentes\n",
    "\n",
    "Para modificar un par llave-valor ya existente, basta con reasignar a una llave de nuestro diccionario el nuevo valor que queremos agregar por ejemplo, imaginemos que esta persona cambio de dirección:"
   ]
  },
  {
   "cell_type": "code",
   "execution_count": 7,
   "id": "c71618f3",
   "metadata": {},
   "outputs": [
    {
     "name": "stdout",
     "output_type": "stream",
     "text": [
      "{'dir': {'calle': 'Progreso', 'colina': 'Escandalo', 'cp': '11800', 'num': 189},\n",
      " 'email': 'Maluma_hasta_abajo@regechafa.com',\n",
      " 'nombre': 'Maluma',\n",
      " 'tel': 5578812149}\n"
     ]
    }
   ],
   "source": [
    "info_de_contacto['dir'] = {\n",
    "    'colina': 'Escandalo',\n",
    "    'calle': 'Progreso',\n",
    "    'num': 189,\n",
    "    'cp': '11800'\n",
    "}\n",
    "pprint(info_de_contacto)"
   ]
  },
  {
   "cell_type": "code",
   "execution_count": 8,
   "id": "f9b46c74",
   "metadata": {},
   "outputs": [],
   "source": [
    "info_de_contacto['dir']['colonia']= 'SalteSiPuedes'"
   ]
  },
  {
   "cell_type": "code",
   "execution_count": 9,
   "id": "7f1ebbfd",
   "metadata": {},
   "outputs": [
    {
     "name": "stdout",
     "output_type": "stream",
     "text": [
      "{'dir': {'calle': 'Progreso',\n",
      "         'colina': 'Escandalo',\n",
      "         'colonia': 'SalteSiPuedes',\n",
      "         'cp': '11800',\n",
      "         'num': 189},\n",
      " 'email': 'Maluma_hasta_abajo@regechafa.com',\n",
      " 'nombre': 'Maluma',\n",
      " 'tel': 5578812149}\n"
     ]
    }
   ],
   "source": [
    "pprint(info_de_contacto)"
   ]
  },
  {
   "cell_type": "markdown",
   "id": "91afefe0",
   "metadata": {},
   "source": [
    "Podemos incluso modificar estructuras de datos dentro de nuestro diccionario. Por ejemplo, ¿Qué tal si hubo un error al agregar la nueva dirección y ahora tenemos que cambiar solamente el numero?:"
   ]
  }
 ],
 "metadata": {
  "kernelspec": {
   "display_name": "Python 3",
   "language": "python",
   "name": "python3"
  },
  "language_info": {
   "codemirror_mode": {
    "name": "ipython",
    "version": 3
   },
   "file_extension": ".py",
   "mimetype": "text/x-python",
   "name": "python",
   "nbconvert_exporter": "python",
   "pygments_lexer": "ipython3",
   "version": "3.11.9"
  }
 },
 "nbformat": 4,
 "nbformat_minor": 5
}
