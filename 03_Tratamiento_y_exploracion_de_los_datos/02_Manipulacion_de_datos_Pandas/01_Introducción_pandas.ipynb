{
 "cells": [
  {
   "cell_type": "markdown",
   "id": "3dc485a9",
   "metadata": {},
   "source": [
    "## ¿Qué es Pandas?"
   ]
  },
  {
   "cell_type": "markdown",
   "id": "60054583",
   "metadata": {},
   "source": [
    " Pandas es una librería de Python especializada en el manejo y análisis de datos"
   ]
  },
  {
   "cell_type": "markdown",
   "id": "6dcf0364",
   "metadata": {},
   "source": [
    "## ¿Para qué sirve?\n",
    "Pandas facilita trabajar con grandes cantidades de datos estructurados o semi-estructurados"
   ]
  },
  {
   "cell_type": "markdown",
   "id": "e3c92e9a",
   "metadata": {},
   "source": [
    "## Caracteristicas:\n",
    "Pandas es una librería de Python para análisis de datos que ofrece estructuras como Series y DataFrames, ideales para manejar información tabular con etiquetas. Es rápida y eficiente, permite leer y escribir en varios formatos como CSV o Excel, y facilita tareas como filtrar, agrupar, ordenar, manejar valores faltantes y trabajar con fechas y series temporales. Es ampliamente usada por su simplicidad y potencia para manipular grandes volúmenes de datos."
   ]
  },
  {
   "cell_type": "markdown",
   "id": "9bc5978d",
   "metadata": {},
   "source": [
    "## ¿Cómo se instala?\n",
    "1.- Si ya tienes Python instalado en tu computadora, abre una terminal (o el Anaconda Prompt si usas Anaconda) y escribe `pip install pandas`"
   ]
  },
  {
   "cell_type": "markdown",
   "id": "d739ae33",
   "metadata": {},
   "source": [
    "2.- Si usas Anaconda, ya viene preinstalada. Pero si necesitas actualizarla, usa `conda install pandas` o para la versión más reciente `conda update pandas`"
   ]
  },
  {
   "cell_type": "markdown",
   "id": "0e5c00fe",
   "metadata": {},
   "source": [
    "3.- Una vez instalada, puedes probarla en Python escribiendo `import pandas as pd print(pd.__version__)`"
   ]
  },
  {
   "cell_type": "markdown",
   "id": "442e8154",
   "metadata": {},
   "source": [
    "4.- Una vez que ya la instalaste, al inicio de tu script o notebook de Python escribe `import pandas as pd`"
   ]
  },
  {
   "cell_type": "code",
   "execution_count": 1,
   "id": "42b25df1",
   "metadata": {},
   "outputs": [],
   "source": [
    "import pandas as pd"
   ]
  },
  {
   "cell_type": "markdown",
   "id": "ffa822b8",
   "metadata": {},
   "source": [
    "# Ejemplo 1"
   ]
  },
  {
   "cell_type": "markdown",
   "id": "d63daacd",
   "metadata": {},
   "source": [
    "La convención es importarla con el alias pd para que las funciones sean más cortas y cómodas de escribir. Por ejemplo:"
   ]
  },
  {
   "cell_type": "code",
   "execution_count": 2,
   "id": "9cb70089",
   "metadata": {},
   "outputs": [
    {
     "name": "stdout",
     "output_type": "stream",
     "text": [
      "  Nombre  Edad\n",
      "0    Ana    25\n",
      "1   Luis    30\n"
     ]
    }
   ],
   "source": [
    "import pandas as pd\n",
    "\n",
    "df = pd.DataFrame({\"Nombre\": [\"Ana\", \"Luis\"], \"Edad\": [25, 30]})\n",
    "print(df)"
   ]
  },
  {
   "cell_type": "markdown",
   "id": "3908b6d6",
   "metadata": {},
   "source": [
    "Si no la importas, Python te dará un error como:"
   ]
  },
  {
   "cell_type": "code",
   "execution_count": 4,
   "id": "7729d20f",
   "metadata": {},
   "outputs": [
    {
     "ename": "SyntaxError",
     "evalue": "invalid syntax (1751535306.py, line 4)",
     "output_type": "error",
     "traceback": [
      "  \u001b[36mCell\u001b[39m\u001b[36m \u001b[39m\u001b[32mIn[4]\u001b[39m\u001b[32m, line 4\u001b[39m\n\u001b[31m    \u001b[39m\u001b[31mNameError: name 'pd' is not defined\u001b[39m\n                    ^\n\u001b[31mSyntaxError\u001b[39m\u001b[31m:\u001b[39m invalid syntax\n"
     ]
    }
   ],
   "source": [
    "df = pd.DataFrame({\"Nombre\": [\"Ana\", \"Luis\"], \"Edad\": [25, 30]})\n",
    "print(df)\n",
    "\n",
    "NameError: name 'pd' is not defined"
   ]
  },
  {
   "cell_type": "markdown",
   "id": "a2112552",
   "metadata": {},
   "source": [
    "Así que sí es obligatorio importarla cada vez que la uses."
   ]
  },
  {
   "cell_type": "markdown",
   "id": "21e40354",
   "metadata": {},
   "source": [
    "# Ejemplo 2"
   ]
  },
  {
   "cell_type": "code",
   "execution_count": 5,
   "id": "26dea23c",
   "metadata": {},
   "outputs": [
    {
     "name": "stdout",
     "output_type": "stream",
     "text": [
      "0      1\n",
      "1      4\n",
      "2      9\n",
      "3      2\n",
      "4      6\n",
      "5     10\n",
      "6    200\n",
      "dtype: int64\n"
     ]
    }
   ],
   "source": [
    "naranjas = pd.Series([1,4,9,2,6,10,200])\n",
    "print(naranjas)"
   ]
  },
  {
   "cell_type": "code",
   "execution_count": 6,
   "id": "501e7fb9",
   "metadata": {},
   "outputs": [
    {
     "data": {
      "text/plain": [
       "pandas.core.series.Series"
      ]
     },
     "execution_count": 6,
     "metadata": {},
     "output_type": "execute_result"
    }
   ],
   "source": [
    "type (naranjas)"
   ]
  },
  {
   "cell_type": "code",
   "execution_count": 7,
   "id": "4bcf8f8a",
   "metadata": {},
   "outputs": [
    {
     "name": "stdout",
     "output_type": "stream",
     "text": [
      "Marco       1\n",
      "Ana         4\n",
      "Juan        9\n",
      "Pedro       2\n",
      "Estela      6\n",
      "Ivan       10\n",
      "Luis      200\n",
      "dtype: int64\n"
     ]
    }
   ],
   "source": [
    "naranjas = pd.Series([1,4,9,2,6,10,200], index = [\"Marco\", \"Ana\", \"Juan\", \"Pedro\", \"Estela\", \"Ivan\", \"Luis\"])\n",
    "print(naranjas)"
   ]
  }
 ],
 "metadata": {
  "kernelspec": {
   "display_name": "Python 3",
   "language": "python",
   "name": "python3"
  },
  "language_info": {
   "codemirror_mode": {
    "name": "ipython",
    "version": 3
   },
   "file_extension": ".py",
   "mimetype": "text/x-python",
   "name": "python",
   "nbconvert_exporter": "python",
   "pygments_lexer": "ipython3",
   "version": "3.11.9"
  }
 },
 "nbformat": 4,
 "nbformat_minor": 5
}
