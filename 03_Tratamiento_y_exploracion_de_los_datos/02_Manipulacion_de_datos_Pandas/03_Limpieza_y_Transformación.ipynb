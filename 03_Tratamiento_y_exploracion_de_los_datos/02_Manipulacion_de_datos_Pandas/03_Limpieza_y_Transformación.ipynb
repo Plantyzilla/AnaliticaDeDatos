{
 "cells": [
  {
   "cell_type": "markdown",
   "id": "e9170961",
   "metadata": {},
   "source": [
    "# Limpieza y tranformación de datos"
   ]
  },
  {
   "cell_type": "code",
   "execution_count": 1,
   "id": "821280f5",
   "metadata": {},
   "outputs": [],
   "source": [
    "# Importa librerias\n",
    "import pandas as pd\n",
    "import numpy as np\n",
    "import matplotlib.pyplot as plt"
   ]
  },
  {
   "cell_type": "code",
   "execution_count": 5,
   "id": "f71801b1",
   "metadata": {},
   "outputs": [
    {
     "data": {
      "image/png": "[encoded data removed]",
      "text/plain": [
       "<Figure size 640x480 with 1 Axes>"
      ]
     },
     "metadata": {},
     "output_type": "display_data"
    }
   ],
   "source": [
    "import matplotlib.pyplot as plt\n",
    "\n",
    "plt.plot([1, 2, 3], [4, 5, 6])\n",
    "plt.title(\"Prueba rápida\")\n",
    "plt.show()"
   ]
  },
  {
   "cell_type": "code",
   "execution_count": 11,
   "id": "a5684c6c",
   "metadata": {},
   "outputs": [],
   "source": [
    "salaries = pd.read_csv('./Data_Sets/linkedin-jobs-usa.csv')"
   ]
  },
  {
   "cell_type": "code",
   "execution_count": 12,
   "id": "e1a415ed",
   "metadata": {},
   "outputs": [
    {
     "data": {
      "text/plain": [
       "(2845, 9)"
      ]
     },
     "execution_count": 12,
     "metadata": {},
     "output_type": "execute_result"
    }
   ],
   "source": [
    "salaries.shape"
   ]
  },
  {
   "cell_type": "code",
   "execution_count": 13,
   "id": "2a22eef9",
   "metadata": {},
   "outputs": [
    {
     "data": {
      "text/html": [
       "<div>\n",
       "<style scoped>\n",
       "    .dataframe tbody tr th:only-of-type {\n",
       "        vertical-align: middle;\n",
       "    }\n",
       "\n",
       "    .dataframe tbody tr th {\n",
       "        vertical-align: top;\n",
       "    }\n",
       "\n",
       "    .dataframe thead th {\n",
       "        text-align: right;\n",
       "    }\n",
       "</style>\n",
       "<table border=\"1\" class=\"dataframe\">\n",
       "  <thead>\n",
       "    <tr style=\"text-align: right;\">\n",
       "      <th></th>\n",
       "      <th>title</th>\n",
       "      <th>company</th>\n",
       "      <th>description</th>\n",
       "      <th>onsite_remote</th>\n",
       "      <th>salary</th>\n",
       "      <th>location</th>\n",
       "      <th>criteria</th>\n",
       "      <th>posted_date</th>\n",
       "      <th>link</th>\n",
       "    </tr>\n",
       "  </thead>\n",
       "  <tbody>\n",
       "    <tr>\n",
       "      <th>0</th>\n",
       "      <td>Data Analyst - Recent Graduate</td>\n",
       "      <td>PayPal</td>\n",
       "      <td>At PayPal (NASDAQ: PYPL), we believe that ever...</td>\n",
       "      <td>onsite</td>\n",
       "      <td>NaN</td>\n",
       "      <td>Buffalo-Niagara Falls Area</td>\n",
       "      <td>[{'Seniority level': 'Not Applicable'}, {'Empl...</td>\n",
       "      <td>2022-11-22</td>\n",
       "      <td>https://www.linkedin.com/jobs/view/data-analys...</td>\n",
       "    </tr>\n",
       "    <tr>\n",
       "      <th>1</th>\n",
       "      <td>Data Analyst - Recent Graduate</td>\n",
       "      <td>PayPal</td>\n",
       "      <td>At PayPal (NASDAQ: PYPL), we believe that ever...</td>\n",
       "      <td>onsite</td>\n",
       "      <td>NaN</td>\n",
       "      <td>San Jose, CA</td>\n",
       "      <td>[{'Seniority level': 'Not Applicable'}, {'Empl...</td>\n",
       "      <td>2022-11-22</td>\n",
       "      <td>https://www.linkedin.com/jobs/view/data-analys...</td>\n",
       "    </tr>\n",
       "    <tr>\n",
       "      <th>2</th>\n",
       "      <td>Data Analyst</td>\n",
       "      <td>PayPal</td>\n",
       "      <td>At PayPal (NASDAQ: PYPL), we believe that ever...</td>\n",
       "      <td>onsite</td>\n",
       "      <td>NaN</td>\n",
       "      <td>Texas, United States</td>\n",
       "      <td>[{'Seniority level': 'Not Applicable'}, {'Empl...</td>\n",
       "      <td>2022-11-17</td>\n",
       "      <td>https://www.linkedin.com/jobs/view/data-analys...</td>\n",
       "    </tr>\n",
       "    <tr>\n",
       "      <th>3</th>\n",
       "      <td>Data Analyst</td>\n",
       "      <td>PayPal</td>\n",
       "      <td>At PayPal (NASDAQ: PYPL), we believe that ever...</td>\n",
       "      <td>onsite</td>\n",
       "      <td>NaN</td>\n",
       "      <td>Illinois, United States</td>\n",
       "      <td>[{'Seniority level': 'Not Applicable'}, {'Empl...</td>\n",
       "      <td>2022-11-17</td>\n",
       "      <td>https://www.linkedin.com/jobs/view/data-analys...</td>\n",
       "    </tr>\n",
       "    <tr>\n",
       "      <th>4</th>\n",
       "      <td>Entry-Level Data Analyst</td>\n",
       "      <td>The Federal Savings Bank</td>\n",
       "      <td>The Federal Savings Bank, a national bank and ...</td>\n",
       "      <td>onsite</td>\n",
       "      <td>NaN</td>\n",
       "      <td>Chicago, IL</td>\n",
       "      <td>[{'Seniority level': 'Entry level'}, {'Employm...</td>\n",
       "      <td>2022-11-17</td>\n",
       "      <td>https://www.linkedin.com/jobs/view/entry-level...</td>\n",
       "    </tr>\n",
       "  </tbody>\n",
       "</table>\n",
       "</div>"
      ],
      "text/plain": [
       "                            title                   company  \\\n",
       "0  Data Analyst - Recent Graduate                    PayPal   \n",
       "1  Data Analyst - Recent Graduate                    PayPal   \n",
       "2                    Data Analyst                    PayPal   \n",
       "3                    Data Analyst                    PayPal   \n",
       "4        Entry-Level Data Analyst  The Federal Savings Bank   \n",
       "\n",
       "                                         description onsite_remote salary  \\\n",
       "0  At PayPal (NASDAQ: PYPL), we believe that ever...        onsite    NaN   \n",
       "1  At PayPal (NASDAQ: PYPL), we believe that ever...        onsite    NaN   \n",
       "2  At PayPal (NASDAQ: PYPL), we believe that ever...        onsite    NaN   \n",
       "3  At PayPal (NASDAQ: PYPL), we believe that ever...        onsite    NaN   \n",
       "4  The Federal Savings Bank, a national bank and ...        onsite    NaN   \n",
       "\n",
       "                     location  \\\n",
       "0  Buffalo-Niagara Falls Area   \n",
       "1                San Jose, CA   \n",
       "2        Texas, United States   \n",
       "3     Illinois, United States   \n",
       "4                 Chicago, IL   \n",
       "\n",
       "                                            criteria posted_date  \\\n",
       "0  [{'Seniority level': 'Not Applicable'}, {'Empl...  2022-11-22   \n",
       "1  [{'Seniority level': 'Not Applicable'}, {'Empl...  2022-11-22   \n",
       "2  [{'Seniority level': 'Not Applicable'}, {'Empl...  2022-11-17   \n",
       "3  [{'Seniority level': 'Not Applicable'}, {'Empl...  2022-11-17   \n",
       "4  [{'Seniority level': 'Entry level'}, {'Employm...  2022-11-17   \n",
       "\n",
       "                                                link  \n",
       "0  https://www.linkedin.com/jobs/view/data-analys...  \n",
       "1  https://www.linkedin.com/jobs/view/data-analys...  \n",
       "2  https://www.linkedin.com/jobs/view/data-analys...  \n",
       "3  https://www.linkedin.com/jobs/view/data-analys...  \n",
       "4  https://www.linkedin.com/jobs/view/entry-level...  "
      ]
     },
     "execution_count": 13,
     "metadata": {},
     "output_type": "execute_result"
    }
   ],
   "source": [
    "salaries.head()"
   ]
  },
  {
   "cell_type": "code",
   "execution_count": 14,
   "id": "a9c6c2dd",
   "metadata": {},
   "outputs": [
    {
     "name": "stdout",
     "output_type": "stream",
     "text": [
      "<class 'pandas.core.frame.DataFrame'>\n",
      "RangeIndex: 2845 entries, 0 to 2844\n",
      "Data columns (total 9 columns):\n",
      " #   Column         Non-Null Count  Dtype \n",
      "---  ------         --------------  ----- \n",
      " 0   title          2845 non-null   object\n",
      " 1   company        2845 non-null   object\n",
      " 2   description    2845 non-null   object\n",
      " 3   onsite_remote  2845 non-null   object\n",
      " 4   salary         929 non-null    object\n",
      " 5   location       2845 non-null   object\n",
      " 6   criteria       2845 non-null   object\n",
      " 7   posted_date    2845 non-null   object\n",
      " 8   link           2845 non-null   object\n",
      "dtypes: object(9)\n",
      "memory usage: 200.2+ KB\n"
     ]
    }
   ],
   "source": [
    "salaries.info()"
   ]
  },
  {
   "cell_type": "markdown",
   "id": "d8016c2f",
   "metadata": {},
   "source": [
    "# Tratamiento de Valores Nulos"
   ]
  },
  {
   "cell_type": "code",
   "execution_count": 15,
   "id": "b3693628",
   "metadata": {},
   "outputs": [],
   "source": [
    "salaries_limpieza = salaries.copy()"
   ]
  },
  {
   "cell_type": "code",
   "execution_count": 16,
   "id": "6ba180db",
   "metadata": {},
   "outputs": [
    {
     "data": {
      "text/plain": [
       "np.int64(0)"
      ]
     },
     "execution_count": 16,
     "metadata": {},
     "output_type": "execute_result"
    }
   ],
   "source": [
    "salaries_limpieza.duplicated().sum()"
   ]
  },
  {
   "cell_type": "code",
   "execution_count": 18,
   "id": "83fa6552",
   "metadata": {},
   "outputs": [
    {
     "data": {
      "text/html": [
       "<div>\n",
       "<style scoped>\n",
       "    .dataframe tbody tr th:only-of-type {\n",
       "        vertical-align: middle;\n",
       "    }\n",
       "\n",
       "    .dataframe tbody tr th {\n",
       "        vertical-align: top;\n",
       "    }\n",
       "\n",
       "    .dataframe thead th {\n",
       "        text-align: right;\n",
       "    }\n",
       "</style>\n",
       "<table border=\"1\" class=\"dataframe\">\n",
       "  <thead>\n",
       "    <tr style=\"text-align: right;\">\n",
       "      <th></th>\n",
       "      <th>title</th>\n",
       "      <th>company</th>\n",
       "      <th>description</th>\n",
       "      <th>onsite_remote</th>\n",
       "      <th>salary</th>\n",
       "      <th>location</th>\n",
       "      <th>criteria</th>\n",
       "      <th>posted_date</th>\n",
       "      <th>link</th>\n",
       "    </tr>\n",
       "  </thead>\n",
       "  <tbody>\n",
       "  </tbody>\n",
       "</table>\n",
       "</div>"
      ],
      "text/plain": [
       "Empty DataFrame\n",
       "Columns: [title, company, description, onsite_remote, salary, location, criteria, posted_date, link]\n",
       "Index: []"
      ]
     },
     "execution_count": 18,
     "metadata": {},
     "output_type": "execute_result"
    }
   ],
   "source": [
    "salaries_limpieza[salaries_limpieza.duplicated()]"
   ]
  },
  {
   "cell_type": "code",
   "execution_count": 19,
   "id": "8b7d08fd",
   "metadata": {},
   "outputs": [],
   "source": [
    "salaries_limpieza = salaries_limpieza.drop_duplicates()"
   ]
  },
  {
   "cell_type": "markdown",
   "id": "8efcc33c",
   "metadata": {},
   "source": [
    "# Tratamiento de valores Nulos NaN"
   ]
  },
  {
   "cell_type": "code",
   "execution_count": 20,
   "id": "7b00a06d",
   "metadata": {},
   "outputs": [
    {
     "data": {
      "text/html": [
       "<div>\n",
       "<style scoped>\n",
       "    .dataframe tbody tr th:only-of-type {\n",
       "        vertical-align: middle;\n",
       "    }\n",
       "\n",
       "    .dataframe tbody tr th {\n",
       "        vertical-align: top;\n",
       "    }\n",
       "\n",
       "    .dataframe thead th {\n",
       "        text-align: right;\n",
       "    }\n",
       "</style>\n",
       "<table border=\"1\" class=\"dataframe\">\n",
       "  <thead>\n",
       "    <tr style=\"text-align: right;\">\n",
       "      <th></th>\n",
       "      <th>title</th>\n",
       "      <th>company</th>\n",
       "      <th>description</th>\n",
       "      <th>onsite_remote</th>\n",
       "      <th>salary</th>\n",
       "      <th>location</th>\n",
       "      <th>criteria</th>\n",
       "      <th>posted_date</th>\n",
       "      <th>link</th>\n",
       "    </tr>\n",
       "  </thead>\n",
       "  <tbody>\n",
       "    <tr>\n",
       "      <th>0</th>\n",
       "      <td>False</td>\n",
       "      <td>False</td>\n",
       "      <td>False</td>\n",
       "      <td>False</td>\n",
       "      <td>True</td>\n",
       "      <td>False</td>\n",
       "      <td>False</td>\n",
       "      <td>False</td>\n",
       "      <td>False</td>\n",
       "    </tr>\n",
       "    <tr>\n",
       "      <th>1</th>\n",
       "      <td>False</td>\n",
       "      <td>False</td>\n",
       "      <td>False</td>\n",
       "      <td>False</td>\n",
       "      <td>True</td>\n",
       "      <td>False</td>\n",
       "      <td>False</td>\n",
       "      <td>False</td>\n",
       "      <td>False</td>\n",
       "    </tr>\n",
       "    <tr>\n",
       "      <th>2</th>\n",
       "      <td>False</td>\n",
       "      <td>False</td>\n",
       "      <td>False</td>\n",
       "      <td>False</td>\n",
       "      <td>True</td>\n",
       "      <td>False</td>\n",
       "      <td>False</td>\n",
       "      <td>False</td>\n",
       "      <td>False</td>\n",
       "    </tr>\n",
       "    <tr>\n",
       "      <th>3</th>\n",
       "      <td>False</td>\n",
       "      <td>False</td>\n",
       "      <td>False</td>\n",
       "      <td>False</td>\n",
       "      <td>True</td>\n",
       "      <td>False</td>\n",
       "      <td>False</td>\n",
       "      <td>False</td>\n",
       "      <td>False</td>\n",
       "    </tr>\n",
       "    <tr>\n",
       "      <th>4</th>\n",
       "      <td>False</td>\n",
       "      <td>False</td>\n",
       "      <td>False</td>\n",
       "      <td>False</td>\n",
       "      <td>True</td>\n",
       "      <td>False</td>\n",
       "      <td>False</td>\n",
       "      <td>False</td>\n",
       "      <td>False</td>\n",
       "    </tr>\n",
       "    <tr>\n",
       "      <th>...</th>\n",
       "      <td>...</td>\n",
       "      <td>...</td>\n",
       "      <td>...</td>\n",
       "      <td>...</td>\n",
       "      <td>...</td>\n",
       "      <td>...</td>\n",
       "      <td>...</td>\n",
       "      <td>...</td>\n",
       "      <td>...</td>\n",
       "    </tr>\n",
       "    <tr>\n",
       "      <th>2840</th>\n",
       "      <td>False</td>\n",
       "      <td>False</td>\n",
       "      <td>False</td>\n",
       "      <td>False</td>\n",
       "      <td>True</td>\n",
       "      <td>False</td>\n",
       "      <td>False</td>\n",
       "      <td>False</td>\n",
       "      <td>False</td>\n",
       "    </tr>\n",
       "    <tr>\n",
       "      <th>2841</th>\n",
       "      <td>False</td>\n",
       "      <td>False</td>\n",
       "      <td>False</td>\n",
       "      <td>False</td>\n",
       "      <td>False</td>\n",
       "      <td>False</td>\n",
       "      <td>False</td>\n",
       "      <td>False</td>\n",
       "      <td>False</td>\n",
       "    </tr>\n",
       "    <tr>\n",
       "      <th>2842</th>\n",
       "      <td>False</td>\n",
       "      <td>False</td>\n",
       "      <td>False</td>\n",
       "      <td>False</td>\n",
       "      <td>True</td>\n",
       "      <td>False</td>\n",
       "      <td>False</td>\n",
       "      <td>False</td>\n",
       "      <td>False</td>\n",
       "    </tr>\n",
       "    <tr>\n",
       "      <th>2843</th>\n",
       "      <td>False</td>\n",
       "      <td>False</td>\n",
       "      <td>False</td>\n",
       "      <td>False</td>\n",
       "      <td>False</td>\n",
       "      <td>False</td>\n",
       "      <td>False</td>\n",
       "      <td>False</td>\n",
       "      <td>False</td>\n",
       "    </tr>\n",
       "    <tr>\n",
       "      <th>2844</th>\n",
       "      <td>False</td>\n",
       "      <td>False</td>\n",
       "      <td>False</td>\n",
       "      <td>False</td>\n",
       "      <td>False</td>\n",
       "      <td>False</td>\n",
       "      <td>False</td>\n",
       "      <td>False</td>\n",
       "      <td>False</td>\n",
       "    </tr>\n",
       "  </tbody>\n",
       "</table>\n",
       "<p>2845 rows × 9 columns</p>\n",
       "</div>"
      ],
      "text/plain": [
       "      title  company  description  onsite_remote  salary  location  criteria  \\\n",
       "0     False    False        False          False    True     False     False   \n",
       "1     False    False        False          False    True     False     False   \n",
       "2     False    False        False          False    True     False     False   \n",
       "3     False    False        False          False    True     False     False   \n",
       "4     False    False        False          False    True     False     False   \n",
       "...     ...      ...          ...            ...     ...       ...       ...   \n",
       "2840  False    False        False          False    True     False     False   \n",
       "2841  False    False        False          False   False     False     False   \n",
       "2842  False    False        False          False    True     False     False   \n",
       "2843  False    False        False          False   False     False     False   \n",
       "2844  False    False        False          False   False     False     False   \n",
       "\n",
       "      posted_date   link  \n",
       "0           False  False  \n",
       "1           False  False  \n",
       "2           False  False  \n",
       "3           False  False  \n",
       "4           False  False  \n",
       "...           ...    ...  \n",
       "2840        False  False  \n",
       "2841        False  False  \n",
       "2842        False  False  \n",
       "2843        False  False  \n",
       "2844        False  False  \n",
       "\n",
       "[2845 rows x 9 columns]"
      ]
     },
     "execution_count": 20,
     "metadata": {},
     "output_type": "execute_result"
    }
   ],
   "source": [
    "salaries_limpieza.isna()"
   ]
  },
  {
   "cell_type": "code",
   "execution_count": 21,
   "id": "208068cc",
   "metadata": {},
   "outputs": [
    {
     "name": "stdout",
     "output_type": "stream",
     "text": [
      "valores nulos por columna title               0\n",
      "company             0\n",
      "description         0\n",
      "onsite_remote       0\n",
      "salary           1916\n",
      "location            0\n",
      "criteria            0\n",
      "posted_date         0\n",
      "link                0\n",
      "dtype: int64\n"
     ]
    }
   ],
   "source": [
    "print (f'valores nulos por columna {salaries_limpieza.isna().sum()}')"
   ]
  },
  {
   "cell_type": "code",
   "execution_count": 24,
   "id": "56d357b4",
   "metadata": {},
   "outputs": [],
   "source": [
    "df_sin_nulos = salaries_limpieza.dropna()\n",
    "\n",
    "df_sin_nulos = salaries_limpieza.dropna(axis=1)\n",
    "\n",
    "# axis 0 revisa por fila\n",
    "# axis 1 revisa por columna"
   ]
  },
  {
   "cell_type": "markdown",
   "id": "f9e65190",
   "metadata": {},
   "source": [
    "# Axis= 1 revisa por columna\n",
    "### Any: Elimina si por lo menos hay un nan"
   ]
  },
  {
   "cell_type": "code",
   "execution_count": 25,
   "id": "75fa8d52",
   "metadata": {},
   "outputs": [],
   "source": [
    "# df_sin_nulos_columnas = "
   ]
  },
  {
   "cell_type": "markdown",
   "id": "e191d8a0",
   "metadata": {},
   "source": [
    "# Transformación de datos"
   ]
  }
 ],
 "metadata": {
  "kernelspec": {
   "display_name": ".venv",
   "language": "python",
   "name": "python3"
  },
  "language_info": {
   "codemirror_mode": {
    "name": "ipython",
    "version": 3
   },
   "file_extension": ".py",
   "mimetype": "text/x-python",
   "name": "python",
   "nbconvert_exporter": "python",
   "pygments_lexer": "ipython3",
   "version": "3.11.9"
  }
 },
 "nbformat": 4,
 "nbformat_minor": 5
}
