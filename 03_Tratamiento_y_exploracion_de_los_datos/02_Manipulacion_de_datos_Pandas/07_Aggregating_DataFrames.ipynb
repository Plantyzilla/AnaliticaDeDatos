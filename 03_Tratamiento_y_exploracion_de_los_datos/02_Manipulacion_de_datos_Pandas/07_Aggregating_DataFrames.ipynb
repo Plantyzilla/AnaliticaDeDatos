{
 "cells": [
  {
   "cell_type": "markdown",
   "id": "ad9077be",
   "metadata": {},
   "source": [
    "# Aggregating DataFrames\n",
    "\n",
    "En este Notebook se calcularan estadisticas de resumen en columnas del DataFrame y dominaras las estadisticas agrupadas y tablas dinamicas (pivot table)"
   ]
  },
  {
   "cell_type": "markdown",
   "id": "aaffea56",
   "metadata": {},
   "source": [
    "## Estadisticas de Resumen\n",
    "\n",
    "**Media y mediana**\n",
    "\n",
    "Las estadisticas resumidas son excatamente lo que parecen: resumen muchos numeros en una sola estadistica. Por ejemplo, la media, la mediana, el minimo, la desviación tipica (Desviación estandar) son estadisticas de resumen. Calculando estadisticas de resumen te permite hacerte una mejor idea de tus datos, aunque sean muchos.\n",
    "\n",
    "**Instrucciones**\n",
    "\n",
    "- Explorar el nuevo DataFrame imprimiendo las primeras filas del DataFrame Walmart_sales\n",
    "- Imprime información sobre las columnas\n",
    "- Imprimir la media de la columna weekly_sales\n",
    "-- Imprimir la mediana de la columna weekly_sales"
   ]
  },
  {
   "cell_type": "code",
   "execution_count": 2,
   "id": "c4f2298a",
   "metadata": {},
   "outputs": [],
   "source": [
    "import pandas as pd"
   ]
  },
  {
   "cell_type": "code",
   "execution_count": 3,
   "id": "d2630c87",
   "metadata": {},
   "outputs": [
    {
     "data": {
      "text/html": [
       "<div>\n",
       "<style scoped>\n",
       "    .dataframe tbody tr th:only-of-type {\n",
       "        vertical-align: middle;\n",
       "    }\n",
       "\n",
       "    .dataframe tbody tr th {\n",
       "        vertical-align: top;\n",
       "    }\n",
       "\n",
       "    .dataframe thead th {\n",
       "        text-align: right;\n",
       "    }\n",
       "</style>\n",
       "<table border=\"1\" class=\"dataframe\">\n",
       "  <thead>\n",
       "    <tr style=\"text-align: right;\">\n",
       "      <th></th>\n",
       "      <th>Store</th>\n",
       "      <th>Date</th>\n",
       "      <th>Weekly_Sales</th>\n",
       "      <th>Holiday_Flag</th>\n",
       "      <th>Temperature</th>\n",
       "      <th>Fuel_Price</th>\n",
       "      <th>CPI</th>\n",
       "      <th>Unemployment</th>\n",
       "    </tr>\n",
       "  </thead>\n",
       "  <tbody>\n",
       "    <tr>\n",
       "      <th>0</th>\n",
       "      <td>1</td>\n",
       "      <td>05-02-2010</td>\n",
       "      <td>1643690.90</td>\n",
       "      <td>0</td>\n",
       "      <td>42.31</td>\n",
       "      <td>2.572</td>\n",
       "      <td>211.096358</td>\n",
       "      <td>8.106</td>\n",
       "    </tr>\n",
       "    <tr>\n",
       "      <th>1</th>\n",
       "      <td>1</td>\n",
       "      <td>12-02-2010</td>\n",
       "      <td>1641957.44</td>\n",
       "      <td>1</td>\n",
       "      <td>38.51</td>\n",
       "      <td>2.548</td>\n",
       "      <td>211.242170</td>\n",
       "      <td>8.106</td>\n",
       "    </tr>\n",
       "    <tr>\n",
       "      <th>2</th>\n",
       "      <td>1</td>\n",
       "      <td>19-02-2010</td>\n",
       "      <td>1611968.17</td>\n",
       "      <td>0</td>\n",
       "      <td>39.93</td>\n",
       "      <td>2.514</td>\n",
       "      <td>211.289143</td>\n",
       "      <td>8.106</td>\n",
       "    </tr>\n",
       "    <tr>\n",
       "      <th>3</th>\n",
       "      <td>1</td>\n",
       "      <td>26-02-2010</td>\n",
       "      <td>1409727.59</td>\n",
       "      <td>0</td>\n",
       "      <td>46.63</td>\n",
       "      <td>2.561</td>\n",
       "      <td>211.319643</td>\n",
       "      <td>8.106</td>\n",
       "    </tr>\n",
       "    <tr>\n",
       "      <th>4</th>\n",
       "      <td>1</td>\n",
       "      <td>05-03-2010</td>\n",
       "      <td>1554806.68</td>\n",
       "      <td>0</td>\n",
       "      <td>46.50</td>\n",
       "      <td>2.625</td>\n",
       "      <td>211.350143</td>\n",
       "      <td>8.106</td>\n",
       "    </tr>\n",
       "  </tbody>\n",
       "</table>\n",
       "</div>"
      ],
      "text/plain": [
       "   Store        Date  Weekly_Sales  Holiday_Flag  Temperature  Fuel_Price  \\\n",
       "0      1  05-02-2010    1643690.90             0        42.31       2.572   \n",
       "1      1  12-02-2010    1641957.44             1        38.51       2.548   \n",
       "2      1  19-02-2010    1611968.17             0        39.93       2.514   \n",
       "3      1  26-02-2010    1409727.59             0        46.63       2.561   \n",
       "4      1  05-03-2010    1554806.68             0        46.50       2.625   \n",
       "\n",
       "          CPI  Unemployment  \n",
       "0  211.096358         8.106  \n",
       "1  211.242170         8.106  \n",
       "2  211.289143         8.106  \n",
       "3  211.319643         8.106  \n",
       "4  211.350143         8.106  "
      ]
     },
     "execution_count": 3,
     "metadata": {},
     "output_type": "execute_result"
    }
   ],
   "source": [
    "sales = pd.read_csv('./Data_Sets/walmart_sales.csv')\n",
    "sales.head()"
   ]
  },
  {
   "cell_type": "code",
   "execution_count": 4,
   "id": "c008e5a5",
   "metadata": {},
   "outputs": [
    {
     "name": "stdout",
     "output_type": "stream",
     "text": [
      "<class 'pandas.core.frame.DataFrame'>\n",
      "RangeIndex: 6435 entries, 0 to 6434\n",
      "Data columns (total 8 columns):\n",
      " #   Column        Non-Null Count  Dtype  \n",
      "---  ------        --------------  -----  \n",
      " 0   Store         6435 non-null   int64  \n",
      " 1   Date          6435 non-null   object \n",
      " 2   Weekly_Sales  6435 non-null   float64\n",
      " 3   Holiday_Flag  6435 non-null   int64  \n",
      " 4   Temperature   6435 non-null   float64\n",
      " 5   Fuel_Price    6435 non-null   float64\n",
      " 6   CPI           6435 non-null   float64\n",
      " 7   Unemployment  6435 non-null   float64\n",
      "dtypes: float64(5), int64(2), object(1)\n",
      "memory usage: 402.3+ KB\n"
     ]
    }
   ],
   "source": [
    "sales.info()"
   ]
  },
  {
   "cell_type": "code",
   "execution_count": 5,
   "id": "83ac5701",
   "metadata": {},
   "outputs": [
    {
     "data": {
      "text/html": [
       "<div>\n",
       "<style scoped>\n",
       "    .dataframe tbody tr th:only-of-type {\n",
       "        vertical-align: middle;\n",
       "    }\n",
       "\n",
       "    .dataframe tbody tr th {\n",
       "        vertical-align: top;\n",
       "    }\n",
       "\n",
       "    .dataframe thead th {\n",
       "        text-align: right;\n",
       "    }\n",
       "</style>\n",
       "<table border=\"1\" class=\"dataframe\">\n",
       "  <thead>\n",
       "    <tr style=\"text-align: right;\">\n",
       "      <th></th>\n",
       "      <th>Store</th>\n",
       "      <th>Weekly_Sales</th>\n",
       "      <th>Holiday_Flag</th>\n",
       "      <th>Temperature</th>\n",
       "      <th>Fuel_Price</th>\n",
       "      <th>CPI</th>\n",
       "      <th>Unemployment</th>\n",
       "    </tr>\n",
       "  </thead>\n",
       "  <tbody>\n",
       "    <tr>\n",
       "      <th>count</th>\n",
       "      <td>6435.000000</td>\n",
       "      <td>6.435000e+03</td>\n",
       "      <td>6435.000000</td>\n",
       "      <td>6435.000000</td>\n",
       "      <td>6435.000000</td>\n",
       "      <td>6435.000000</td>\n",
       "      <td>6435.000000</td>\n",
       "    </tr>\n",
       "    <tr>\n",
       "      <th>mean</th>\n",
       "      <td>23.000000</td>\n",
       "      <td>1.046965e+06</td>\n",
       "      <td>0.069930</td>\n",
       "      <td>60.663782</td>\n",
       "      <td>3.358607</td>\n",
       "      <td>171.578394</td>\n",
       "      <td>7.999151</td>\n",
       "    </tr>\n",
       "    <tr>\n",
       "      <th>std</th>\n",
       "      <td>12.988182</td>\n",
       "      <td>5.643666e+05</td>\n",
       "      <td>0.255049</td>\n",
       "      <td>18.444933</td>\n",
       "      <td>0.459020</td>\n",
       "      <td>39.356712</td>\n",
       "      <td>1.875885</td>\n",
       "    </tr>\n",
       "    <tr>\n",
       "      <th>min</th>\n",
       "      <td>1.000000</td>\n",
       "      <td>2.099862e+05</td>\n",
       "      <td>0.000000</td>\n",
       "      <td>-2.060000</td>\n",
       "      <td>2.472000</td>\n",
       "      <td>126.064000</td>\n",
       "      <td>3.879000</td>\n",
       "    </tr>\n",
       "    <tr>\n",
       "      <th>25%</th>\n",
       "      <td>12.000000</td>\n",
       "      <td>5.533501e+05</td>\n",
       "      <td>0.000000</td>\n",
       "      <td>47.460000</td>\n",
       "      <td>2.933000</td>\n",
       "      <td>131.735000</td>\n",
       "      <td>6.891000</td>\n",
       "    </tr>\n",
       "    <tr>\n",
       "      <th>50%</th>\n",
       "      <td>23.000000</td>\n",
       "      <td>9.607460e+05</td>\n",
       "      <td>0.000000</td>\n",
       "      <td>62.670000</td>\n",
       "      <td>3.445000</td>\n",
       "      <td>182.616521</td>\n",
       "      <td>7.874000</td>\n",
       "    </tr>\n",
       "    <tr>\n",
       "      <th>75%</th>\n",
       "      <td>34.000000</td>\n",
       "      <td>1.420159e+06</td>\n",
       "      <td>0.000000</td>\n",
       "      <td>74.940000</td>\n",
       "      <td>3.735000</td>\n",
       "      <td>212.743293</td>\n",
       "      <td>8.622000</td>\n",
       "    </tr>\n",
       "    <tr>\n",
       "      <th>max</th>\n",
       "      <td>45.000000</td>\n",
       "      <td>3.818686e+06</td>\n",
       "      <td>1.000000</td>\n",
       "      <td>100.140000</td>\n",
       "      <td>4.468000</td>\n",
       "      <td>227.232807</td>\n",
       "      <td>14.313000</td>\n",
       "    </tr>\n",
       "  </tbody>\n",
       "</table>\n",
       "</div>"
      ],
      "text/plain": [
       "             Store  Weekly_Sales  Holiday_Flag  Temperature   Fuel_Price  \\\n",
       "count  6435.000000  6.435000e+03   6435.000000  6435.000000  6435.000000   \n",
       "mean     23.000000  1.046965e+06      0.069930    60.663782     3.358607   \n",
       "std      12.988182  5.643666e+05      0.255049    18.444933     0.459020   \n",
       "min       1.000000  2.099862e+05      0.000000    -2.060000     2.472000   \n",
       "25%      12.000000  5.533501e+05      0.000000    47.460000     2.933000   \n",
       "50%      23.000000  9.607460e+05      0.000000    62.670000     3.445000   \n",
       "75%      34.000000  1.420159e+06      0.000000    74.940000     3.735000   \n",
       "max      45.000000  3.818686e+06      1.000000   100.140000     4.468000   \n",
       "\n",
       "               CPI  Unemployment  \n",
       "count  6435.000000   6435.000000  \n",
       "mean    171.578394      7.999151  \n",
       "std      39.356712      1.875885  \n",
       "min     126.064000      3.879000  \n",
       "25%     131.735000      6.891000  \n",
       "50%     182.616521      7.874000  \n",
       "75%     212.743293      8.622000  \n",
       "max     227.232807     14.313000  "
      ]
     },
     "execution_count": 5,
     "metadata": {},
     "output_type": "execute_result"
    }
   ],
   "source": [
    "sales.describe()"
   ]
  },
  {
   "cell_type": "code",
   "execution_count": 6,
   "id": "02d6e053",
   "metadata": {},
   "outputs": [
    {
     "data": {
      "text/plain": [
       "np.float64(1046964.88)"
      ]
     },
     "execution_count": 6,
     "metadata": {},
     "output_type": "execute_result"
    }
   ],
   "source": [
    "# Media de la columna weekly_Sales\n",
    "round(sales['Weekly_Sales'].mean(), 2)"
   ]
  },
  {
   "cell_type": "code",
   "execution_count": 7,
   "id": "ac91390f",
   "metadata": {},
   "outputs": [
    {
     "data": {
      "text/plain": [
       "np.float64(960746.04)"
      ]
     },
     "execution_count": 7,
     "metadata": {},
     "output_type": "execute_result"
    }
   ],
   "source": [
    "# Mediana de la columna weekly_Sales\n",
    "\n",
    "sales['Weekly_Sales'].median()"
   ]
  },
  {
   "cell_type": "markdown",
   "id": "0c35b74e",
   "metadata": {},
   "source": [
    "## Resumir Fechas\n",
    "\n",
    "Las estadisticas sumatorias tambien pueden calcularse sobre columnas de fecha que tengan valores con el tipo de datos datetime64. Algunas estadisticas de resumen como la media no tienen mucho sentido en las fechas pero otras son extremadamente utiles como por ejemplo el minimo y el maximo que te permiten ver intervalo de tiempo abarcan tus datos.\n",
    "\n",
    "**Instrucciones**\n",
    "\n",
    "- Imprimir el maximo de la columna date\n",
    "- Imprimir el minimo de la columna date"
   ]
  },
  {
   "cell_type": "code",
   "execution_count": 8,
   "id": "eea82bef",
   "metadata": {},
   "outputs": [],
   "source": [
    "sales[\"Date2\"] = sales[\"Date\"].astype(\"datetime64[ns]\")"
   ]
  },
  {
   "cell_type": "code",
   "execution_count": 9,
   "id": "c0399618",
   "metadata": {},
   "outputs": [
    {
     "data": {
      "text/plain": [
       "<bound method DataFrame.info of       Store        Date  Weekly_Sales  Holiday_Flag  Temperature  Fuel_Price  \\\n",
       "0         1  05-02-2010    1643690.90             0        42.31       2.572   \n",
       "1         1  12-02-2010    1641957.44             1        38.51       2.548   \n",
       "2         1  19-02-2010    1611968.17             0        39.93       2.514   \n",
       "3         1  26-02-2010    1409727.59             0        46.63       2.561   \n",
       "4         1  05-03-2010    1554806.68             0        46.50       2.625   \n",
       "...     ...         ...           ...           ...          ...         ...   \n",
       "6430     45  28-09-2012     713173.95             0        64.88       3.997   \n",
       "6431     45  05-10-2012     733455.07             0        64.89       3.985   \n",
       "6432     45  12-10-2012     734464.36             0        54.47       4.000   \n",
       "6433     45  19-10-2012     718125.53             0        56.47       3.969   \n",
       "6434     45  26-10-2012     760281.43             0        58.85       3.882   \n",
       "\n",
       "             CPI  Unemployment      Date2  \n",
       "0     211.096358         8.106 2010-05-02  \n",
       "1     211.242170         8.106 2010-12-02  \n",
       "2     211.289143         8.106 2010-02-19  \n",
       "3     211.319643         8.106 2010-02-26  \n",
       "4     211.350143         8.106 2010-05-03  \n",
       "...          ...           ...        ...  \n",
       "6430  192.013558         8.684 2012-09-28  \n",
       "6431  192.170412         8.667 2012-05-10  \n",
       "6432  192.327265         8.667 2012-12-10  \n",
       "6433  192.330854         8.667 2012-10-19  \n",
       "6434  192.308899         8.667 2012-10-26  \n",
       "\n",
       "[6435 rows x 9 columns]>"
      ]
     },
     "execution_count": 9,
     "metadata": {},
     "output_type": "execute_result"
    }
   ],
   "source": [
    "sales.info"
   ]
  },
  {
   "cell_type": "code",
   "execution_count": 10,
   "id": "13ce05cb",
   "metadata": {},
   "outputs": [
    {
     "data": {
      "text/plain": [
       "'31-12-2010'"
      ]
     },
     "execution_count": 10,
     "metadata": {},
     "output_type": "execute_result"
    }
   ],
   "source": [
    "# Maximo\n",
    "\n",
    "sales['Date'].max()"
   ]
  },
  {
   "cell_type": "code",
   "execution_count": 11,
   "id": "ecddc0d1",
   "metadata": {},
   "outputs": [
    {
     "data": {
      "text/plain": [
       "'01-04-2011'"
      ]
     },
     "execution_count": 11,
     "metadata": {},
     "output_type": "execute_result"
    }
   ],
   "source": [
    "# Minimo\n",
    "\n",
    "sales['Date'].min()"
   ]
  },
  {
   "cell_type": "code",
   "execution_count": 12,
   "id": "5243ce74",
   "metadata": {},
   "outputs": [
    {
     "data": {
      "text/plain": [
       "Timestamp('2010-01-10 00:00:00')"
      ]
     },
     "execution_count": 12,
     "metadata": {},
     "output_type": "execute_result"
    }
   ],
   "source": [
    "sales['Date2'].min()"
   ]
  },
  {
   "cell_type": "code",
   "execution_count": 13,
   "id": "76c3fbe0",
   "metadata": {},
   "outputs": [
    {
     "data": {
      "text/plain": [
       "Timestamp('2012-12-10 00:00:00')"
      ]
     },
     "execution_count": 13,
     "metadata": {},
     "output_type": "execute_result"
    }
   ],
   "source": [
    "sales['Date2'].max()"
   ]
  },
  {
   "cell_type": "markdown",
   "id": "03e013cf",
   "metadata": {},
   "source": [
    "## Función agg\n",
    "\n",
    "Permite aplicar tus propias funciones personalizadas a un DataFrame, así como aplicar funciones a más de una columna de un DataFrame a la vez, haciendo a tus agraciones sean muy eficientes.\n",
    "\n",
    "`df['column'].agg(function)`\n",
    "\n",
    "En la función personalizada para este ejercicio \"IQR\" es la abreviatura del rango intercuartilico, que es el percentil 75 menos el percentil 25. Es una alternativa a la desviación tipica (estandar) que resulta útil si tus datos contienen valores atípicos.\n",
    "\n",
    "**Instrucciones**\n",
    "\n",
    "1. Utiliza la función personalizada IQR definida por ti junto con con el metodo .agg() para imprimir la IQR de la columna temperatura_c de sales\n",
    "2. Actualiza la selección de columnas para utilizar la función personaizada IQR con agg() para imprimir los IQR de las columnas temperature, fuel_price, unemployment, en orden.\n",
    "3. Actualiza las llamadas a la función agg, para obtener el IQR y la mediana en ese orden."
   ]
  },
  {
   "cell_type": "code",
   "execution_count": 14,
   "id": "5f011272",
   "metadata": {},
   "outputs": [],
   "source": [
    "import numpy as np\n",
    "\n",
    "def iqr (columna):\n",
    "    return columna.quantile(0.75) - columna.quantile(0.25)"
   ]
  },
  {
   "cell_type": "code",
   "execution_count": 22,
   "id": "9b173cf4",
   "metadata": {},
   "outputs": [
    {
     "name": "stdout",
     "output_type": "stream",
     "text": [
      "El IQR de Temperatura 27.479999999999997\n",
      "Temperature     27.480\n",
      "Fuel_Price       0.802\n",
      "Unemployment     1.731\n",
      "dtype: float64\n"
     ]
    }
   ],
   "source": [
    "# Imprimir el IQR de la columna temperature\n",
    " \n",
    "print(f'El IQR de Temperatura {sales[\"Temperature\"].agg(iqr)}')\n",
    "\n",
    "# Actualizar la impreción del IQR de temperature, Fuel_price, unemployment\n",
    "print(sales[['Temperature', 'Fuel_Price', 'Unemployment']].agg(iqr))"
   ]
  },
  {
   "cell_type": "code",
   "execution_count": 23,
   "id": "dfc1708a",
   "metadata": {},
   "outputs": [
    {
     "name": "stdout",
     "output_type": "stream",
     "text": [
      "        Temperature  Fuel_Price  Unemployment\n",
      "iqr           27.48       0.802         1.731\n",
      "median        62.67       3.445         7.874\n"
     ]
    },
    {
     "name": "stderr",
     "output_type": "stream",
     "text": [
      "C:\\Users\\yaelt\\AppData\\Local\\Temp\\ipykernel_5680\\1972042188.py:1: FutureWarning: The provided callable <function median at 0x000002B872A199E0> is currently using Series.median. In a future version of pandas, the provided callable will be used directly. To keep current behavior pass the string \"median\" instead.\n",
      "  print(sales[['Temperature', 'Fuel_Price', 'Unemployment']].agg([iqr, np.median]))\n",
      "C:\\Users\\yaelt\\AppData\\Local\\Temp\\ipykernel_5680\\1972042188.py:1: FutureWarning: The provided callable <function median at 0x000002B872A199E0> is currently using Series.median. In a future version of pandas, the provided callable will be used directly. To keep current behavior pass the string \"median\" instead.\n",
      "  print(sales[['Temperature', 'Fuel_Price', 'Unemployment']].agg([iqr, np.median]))\n",
      "C:\\Users\\yaelt\\AppData\\Local\\Temp\\ipykernel_5680\\1972042188.py:1: FutureWarning: The provided callable <function median at 0x000002B872A199E0> is currently using Series.median. In a future version of pandas, the provided callable will be used directly. To keep current behavior pass the string \"median\" instead.\n",
      "  print(sales[['Temperature', 'Fuel_Price', 'Unemployment']].agg([iqr, np.median]))\n"
     ]
    }
   ],
   "source": [
    "print(sales[['Temperature', 'Fuel_Price', 'Unemployment']].agg([iqr, np.median]))"
   ]
  },
  {
   "cell_type": "code",
   "execution_count": 24,
   "id": "d7b8c8b4",
   "metadata": {},
   "outputs": [
    {
     "name": "stdout",
     "output_type": "stream",
     "text": [
      "        Temperature  Fuel_Price  Unemployment\n",
      "iqr           27.48       0.802         1.731\n",
      "median        62.67       3.445         7.874\n"
     ]
    }
   ],
   "source": [
    "print(sales[['Temperature', 'Fuel_Price', 'Unemployment']].agg([iqr, 'median']))"
   ]
  },
  {
   "cell_type": "code",
   "execution_count": 25,
   "id": "2ccfb6b5",
   "metadata": {},
   "outputs": [
    {
     "name": "stdout",
     "output_type": "stream",
     "text": [
      "        Temperature  Fuel_Price  Unemployment\n",
      "iqr       27.480000    0.802000      1.731000\n",
      "median    62.670000    3.445000      7.874000\n",
      "mean      60.663782    3.358607      7.999151\n",
      "max      100.140000    4.468000     14.313000\n",
      "min       -2.060000    2.472000      3.879000\n"
     ]
    }
   ],
   "source": [
    "print(sales[['Temperature', 'Fuel_Price', 'Unemployment']].agg([iqr, 'median', 'mean', 'max', 'min']))"
   ]
  },
  {
   "cell_type": "code",
   "execution_count": 26,
   "id": "028b8770",
   "metadata": {},
   "outputs": [],
   "source": [
    "def conevrtirACentigrados ( faren ):\n",
    "    return (faren - 32) / 1.8"
   ]
  },
  {
   "cell_type": "code",
   "execution_count": 34,
   "id": "2e85d35a",
   "metadata": {},
   "outputs": [],
   "source": [
    "temp_min = sales['Temperature'].min()\n",
    "temp_max = sales['Temperature'].max()"
   ]
  },
  {
   "cell_type": "code",
   "execution_count": 35,
   "id": "0642253a",
   "metadata": {},
   "outputs": [
    {
     "name": "stdout",
     "output_type": "stream",
     "text": [
      "La temperatura -2.06 en grados centigrados es -18.922222222222224\n",
      "La temperatura 100.14 en grados centigrados es 37.855555555555554\n"
     ]
    }
   ],
   "source": [
    "print(f'La temperatura {temp_min} en grados centigrados es {conevrtirACentigrados(temp_min)}')\n",
    "print(f'La temperatura {temp_max} en grados centigrados es {conevrtirACentigrados(temp_max)}')"
   ]
  },
  {
   "cell_type": "code",
   "execution_count": 32,
   "id": "bccd14eb",
   "metadata": {},
   "outputs": [
    {
     "name": "stdout",
     "output_type": "stream",
     "text": [
      "      Temperature\n",
      "0        5.727778\n",
      "1        3.616667\n",
      "2        4.405556\n",
      "3        8.127778\n",
      "4        8.055556\n",
      "...           ...\n",
      "6430    18.266667\n",
      "6431    18.272222\n",
      "6432    12.483333\n",
      "6433    13.594444\n",
      "6434    14.916667\n",
      "\n",
      "[6435 rows x 1 columns]\n"
     ]
    }
   ],
   "source": [
    "print(sales[['Temperature']].agg(conevrtirACentigrados))"
   ]
  },
  {
   "cell_type": "code",
   "execution_count": 36,
   "id": "dd2ed203",
   "metadata": {},
   "outputs": [],
   "source": [
    "sales['Temperature_Celsious'] = sales[['Temperature']].agg(conevrtirACentigrados)"
   ]
  },
  {
   "cell_type": "code",
   "execution_count": 45,
   "id": "f4cd845b",
   "metadata": {},
   "outputs": [],
   "source": [
    "sales_sort = sales.sort_values(['Temperature', 'Temperature_Celsious'], ascending=[True, False])"
   ]
  },
  {
   "cell_type": "code",
   "execution_count": 46,
   "id": "d81d586a",
   "metadata": {},
   "outputs": [
    {
     "data": {
      "text/html": [
       "<div>\n",
       "<style scoped>\n",
       "    .dataframe tbody tr th:only-of-type {\n",
       "        vertical-align: middle;\n",
       "    }\n",
       "\n",
       "    .dataframe tbody tr th {\n",
       "        vertical-align: top;\n",
       "    }\n",
       "\n",
       "    .dataframe thead th {\n",
       "        text-align: right;\n",
       "    }\n",
       "</style>\n",
       "<table border=\"1\" class=\"dataframe\">\n",
       "  <thead>\n",
       "    <tr style=\"text-align: right;\">\n",
       "      <th></th>\n",
       "      <th>Temperature</th>\n",
       "      <th>Temperature_Celsious</th>\n",
       "    </tr>\n",
       "  </thead>\n",
       "  <tbody>\n",
       "    <tr>\n",
       "      <th>910</th>\n",
       "      <td>-2.06</td>\n",
       "      <td>-18.922222</td>\n",
       "    </tr>\n",
       "    <tr>\n",
       "      <th>3626</th>\n",
       "      <td>5.54</td>\n",
       "      <td>-14.700000</td>\n",
       "    </tr>\n",
       "    <tr>\n",
       "      <th>2336</th>\n",
       "      <td>6.23</td>\n",
       "      <td>-14.316667</td>\n",
       "    </tr>\n",
       "    <tr>\n",
       "      <th>959</th>\n",
       "      <td>7.46</td>\n",
       "      <td>-13.633333</td>\n",
       "    </tr>\n",
       "    <tr>\n",
       "      <th>5628</th>\n",
       "      <td>9.51</td>\n",
       "      <td>-12.494444</td>\n",
       "    </tr>\n",
       "    <tr>\n",
       "      <th>...</th>\n",
       "      <td>...</td>\n",
       "      <td>...</td>\n",
       "    </tr>\n",
       "    <tr>\n",
       "      <th>3885</th>\n",
       "      <td>99.22</td>\n",
       "      <td>37.344444</td>\n",
       "    </tr>\n",
       "    <tr>\n",
       "      <th>5315</th>\n",
       "      <td>99.22</td>\n",
       "      <td>37.344444</td>\n",
       "    </tr>\n",
       "    <tr>\n",
       "      <th>4657</th>\n",
       "      <td>99.66</td>\n",
       "      <td>37.588889</td>\n",
       "    </tr>\n",
       "    <tr>\n",
       "      <th>4707</th>\n",
       "      <td>100.07</td>\n",
       "      <td>37.816667</td>\n",
       "    </tr>\n",
       "    <tr>\n",
       "      <th>4599</th>\n",
       "      <td>100.14</td>\n",
       "      <td>37.855556</td>\n",
       "    </tr>\n",
       "  </tbody>\n",
       "</table>\n",
       "<p>6435 rows × 2 columns</p>\n",
       "</div>"
      ],
      "text/plain": [
       "      Temperature  Temperature_Celsious\n",
       "910         -2.06            -18.922222\n",
       "3626         5.54            -14.700000\n",
       "2336         6.23            -14.316667\n",
       "959          7.46            -13.633333\n",
       "5628         9.51            -12.494444\n",
       "...           ...                   ...\n",
       "3885        99.22             37.344444\n",
       "5315        99.22             37.344444\n",
       "4657        99.66             37.588889\n",
       "4707       100.07             37.816667\n",
       "4599       100.14             37.855556\n",
       "\n",
       "[6435 rows x 2 columns]"
      ]
     },
     "execution_count": 46,
     "metadata": {},
     "output_type": "execute_result"
    }
   ],
   "source": [
    "sales_sort[['Temperature', 'Temperature_Celsious']]"
   ]
  },
  {
   "cell_type": "markdown",
   "id": "b6309b8f",
   "metadata": {},
   "source": [
    "## Estadísticas Acumuladas"
   ]
  },
  {
   "cell_type": "code",
   "execution_count": 17,
   "id": "ca950e5e",
   "metadata": {},
   "outputs": [
    {
     "name": "stdout",
     "output_type": "stream",
     "text": [
      "74.94\n",
      "47.46\n",
      "27.479999999999997\n",
      "mean       60.663782\n",
      "median     62.670000\n",
      "max       100.140000\n",
      "min        -2.060000\n",
      "iqr        27.480000\n",
      "Name: Temperature, dtype: float64\n"
     ]
    }
   ],
   "source": [
    "# Función personalizada que calcula el IQR\n",
    "\n",
    "def iqr(column):\n",
    "    return column.quantile(0.75) - column.quantile(0.25)\n",
    "\n",
    "# Imprimir el rango y el IQR de la columna temperatura\n",
    "\n",
    "print(sales['Temperature'].quantile(0.75))\n",
    "print(sales['Temperature'].quantile(0.25))\n",
    "\n",
    "print(sales['Temperature'].agg(iqr))\n",
    "\n",
    "print(sales['Temperature'].agg(['mean', 'median', 'max', 'min', iqr]))"
   ]
  },
  {
   "cell_type": "code",
   "execution_count": 18,
   "id": "7edb8bcf",
   "metadata": {},
   "outputs": [],
   "source": [
    "def conevrtir (farenheit):\n",
    "    return (farenheit - 32)/1.8"
   ]
  },
  {
   "cell_type": "code",
   "execution_count": 19,
   "id": "e7eccc9a",
   "metadata": {},
   "outputs": [],
   "source": [
    "max_temperatura = sales['Temperature'].max()\n",
    "min_temperatura = sales['Temperature'].min()"
   ]
  },
  {
   "cell_type": "code",
   "execution_count": 20,
   "id": "256fffa8",
   "metadata": {},
   "outputs": [
    {
     "name": "stdout",
     "output_type": "stream",
     "text": [
      "Los grados Celsious son: 37.855555555555554\n",
      "Los grados Celsious son: -18.922222222222224\n"
     ]
    }
   ],
   "source": [
    "print(f'Los grados Celsious son: {conevrtir(max_temperatura)}')\n",
    "print(f'Los grados Celsious son: {conevrtir(min_temperatura)}')"
   ]
  }
 ],
 "metadata": {
  "kernelspec": {
   "display_name": ".venv",
   "language": "python",
   "name": "python3"
  },
  "language_info": {
   "codemirror_mode": {
    "name": "ipython",
    "version": 3
   },
   "file_extension": ".py",
   "mimetype": "text/x-python",
   "name": "python",
   "nbconvert_exporter": "python",
   "pygments_lexer": "ipython3",
   "version": "3.11.9"
  }
 },
 "nbformat": 4,
 "nbformat_minor": 5
}
